{
 "cells": [
  {
   "cell_type": "markdown",
   "id": "6103545f",
   "metadata": {},
   "source": [
    "# 1. Data Loading, Preprocessing, and Cleaning\n",
    "**Andrew Dang**  \n",
    "\n",
    "**BrainStation, Data Science**  \n",
    "\n",
    "**Next Notebook: 2. EDA and Feature Engineering**\n",
    "\n",
    "What do people talk about when they talk about whisky? \n",
    "\n",
    "In this project, I want to gain a better understanding of the language used to describe whiskys. In particular, I am interested in investigating the following topics: \n",
    "1. Determine which words used by reviewers influence ratings positively. Distillers can use this information to write marketing material to convince customers to purchase their products. \n",
    "2. See how words describing different flavours positively or negatively influence the whisky ratings. Knowing which flavours positively and negatively affect the rating inform distillers which flavours they should try to include or avoid having in their products. \n",
    "\n",
    "This project will be using whiskey reviews written by a panel of experts and try to predict their rating assigned to them. From there, we can look at how each individual word affects the whiskys' ratings. The data used for this project was acquired by scraping the [Whisky Advocate](https://www.whiskyadvocate.com/) website. The Whisky Advocate is America's leading spirits magazine, and each review is written by a whisky expert. The scraped data was uploaded by a kaggle user and can be found [here](https://www.kaggle.com/koki25ando/22000-scotch-whisky-reviews). The data consists of the name of the whisky under review, the rating it recieved, as well as information regarding the category of the whisky, and price. \n",
    "\n",
    "The goal of this notebook is to clean our data and preprocess our text for modeling. \n",
    "\n",
    "Let's read in the data. \n",
    "\n",
    "First, we will need to import our packages.\n"
   ]
  },
  {
   "cell_type": "code",
   "execution_count": 1,
   "id": "cc829563",
   "metadata": {},
   "outputs": [],
   "source": [
    "# import standard data science packages\n",
    "import pandas as pd \n",
    "import matplotlib.pyplot as plt\n",
    "import numpy as np \n",
    "\n",
    "# import preprocessing packages\n",
    "from sklearn.preprocessing import OneHotEncoder\n",
    "\n",
    "# text cleaning tools\n",
    "import re \n",
    "import string\n",
    "\n",
    "import pickle\n",
    "import joblib"
   ]
  },
  {
   "cell_type": "code",
   "execution_count": 2,
   "id": "778e6e97",
   "metadata": {},
   "outputs": [
    {
     "data": {
      "text/html": [
       "<div>\n",
       "<style scoped>\n",
       "    .dataframe tbody tr th:only-of-type {\n",
       "        vertical-align: middle;\n",
       "    }\n",
       "\n",
       "    .dataframe tbody tr th {\n",
       "        vertical-align: top;\n",
       "    }\n",
       "\n",
       "    .dataframe thead th {\n",
       "        text-align: right;\n",
       "    }\n",
       "</style>\n",
       "<table border=\"1\" class=\"dataframe\">\n",
       "  <thead>\n",
       "    <tr style=\"text-align: right;\">\n",
       "      <th></th>\n",
       "      <th>Unnamed: 0</th>\n",
       "      <th>name</th>\n",
       "      <th>category</th>\n",
       "      <th>review.point</th>\n",
       "      <th>price</th>\n",
       "      <th>currency</th>\n",
       "      <th>description</th>\n",
       "    </tr>\n",
       "  </thead>\n",
       "  <tbody>\n",
       "    <tr>\n",
       "      <th>0</th>\n",
       "      <td>1</td>\n",
       "      <td>Johnnie Walker Blue Label, 40%</td>\n",
       "      <td>Blended Scotch Whisky</td>\n",
       "      <td>97</td>\n",
       "      <td>225</td>\n",
       "      <td>$</td>\n",
       "      <td>Magnificently powerful and intense. Caramels, ...</td>\n",
       "    </tr>\n",
       "    <tr>\n",
       "      <th>1</th>\n",
       "      <td>2</td>\n",
       "      <td>Black Bowmore, 1964 vintage, 42 year old, 40.5%</td>\n",
       "      <td>Single Malt Scotch</td>\n",
       "      <td>97</td>\n",
       "      <td>4500.00</td>\n",
       "      <td>$</td>\n",
       "      <td>What impresses me most is how this whisky evol...</td>\n",
       "    </tr>\n",
       "    <tr>\n",
       "      <th>2</th>\n",
       "      <td>3</td>\n",
       "      <td>Bowmore 46 year old (distilled 1964), 42.9%</td>\n",
       "      <td>Single Malt Scotch</td>\n",
       "      <td>97</td>\n",
       "      <td>13500.00</td>\n",
       "      <td>$</td>\n",
       "      <td>There have been some legendary Bowmores from t...</td>\n",
       "    </tr>\n",
       "    <tr>\n",
       "      <th>3</th>\n",
       "      <td>4</td>\n",
       "      <td>Compass Box The General, 53.4%</td>\n",
       "      <td>Blended Malt Scotch Whisky</td>\n",
       "      <td>96</td>\n",
       "      <td>325</td>\n",
       "      <td>$</td>\n",
       "      <td>With a name inspired by a 1926 Buster Keaton m...</td>\n",
       "    </tr>\n",
       "    <tr>\n",
       "      <th>4</th>\n",
       "      <td>5</td>\n",
       "      <td>Chivas Regal Ultis, 40%</td>\n",
       "      <td>Blended Malt Scotch Whisky</td>\n",
       "      <td>96</td>\n",
       "      <td>160</td>\n",
       "      <td>$</td>\n",
       "      <td>Captivating, enticing, and wonderfully charmin...</td>\n",
       "    </tr>\n",
       "  </tbody>\n",
       "</table>\n",
       "</div>"
      ],
      "text/plain": [
       "   Unnamed: 0                                             name  \\\n",
       "0           1                   Johnnie Walker Blue Label, 40%   \n",
       "1           2  Black Bowmore, 1964 vintage, 42 year old, 40.5%   \n",
       "2           3      Bowmore 46 year old (distilled 1964), 42.9%   \n",
       "3           4                   Compass Box The General, 53.4%   \n",
       "4           5                          Chivas Regal Ultis, 40%   \n",
       "\n",
       "                     category  review.point     price currency  \\\n",
       "0       Blended Scotch Whisky            97       225        $   \n",
       "1          Single Malt Scotch            97   4500.00        $   \n",
       "2          Single Malt Scotch            97  13500.00        $   \n",
       "3  Blended Malt Scotch Whisky            96       325        $   \n",
       "4  Blended Malt Scotch Whisky            96       160        $   \n",
       "\n",
       "                                         description  \n",
       "0  Magnificently powerful and intense. Caramels, ...  \n",
       "1  What impresses me most is how this whisky evol...  \n",
       "2  There have been some legendary Bowmores from t...  \n",
       "3  With a name inspired by a 1926 Buster Keaton m...  \n",
       "4  Captivating, enticing, and wonderfully charmin...  "
      ]
     },
     "execution_count": 2,
     "metadata": {},
     "output_type": "execute_result"
    }
   ],
   "source": [
    "# reading in the data\n",
    "data = pd.read_csv('data/scotch_review.csv')\n",
    "\n",
    "# inspect the data\n",
    "data.head()"
   ]
  },
  {
   "cell_type": "markdown",
   "id": "7e893b5d",
   "metadata": {},
   "source": [
    "## Checking data types \n",
    "The next step is to inspect each column in our dataset. "
   ]
  },
  {
   "cell_type": "code",
   "execution_count": 3,
   "id": "aa188cd1",
   "metadata": {},
   "outputs": [
    {
     "name": "stdout",
     "output_type": "stream",
     "text": [
      "<class 'pandas.core.frame.DataFrame'>\n",
      "RangeIndex: 2247 entries, 0 to 2246\n",
      "Data columns (total 7 columns):\n",
      " #   Column        Non-Null Count  Dtype \n",
      "---  ------        --------------  ----- \n",
      " 0   Unnamed: 0    2247 non-null   int64 \n",
      " 1   name          2247 non-null   object\n",
      " 2   category      2247 non-null   object\n",
      " 3   review.point  2247 non-null   int64 \n",
      " 4   price         2247 non-null   object\n",
      " 5   currency      2247 non-null   object\n",
      " 6   description   2247 non-null   object\n",
      "dtypes: int64(2), object(5)\n",
      "memory usage: 123.0+ KB\n"
     ]
    }
   ],
   "source": [
    "data.info()"
   ]
  },
  {
   "cell_type": "markdown",
   "id": "13eb0545",
   "metadata": {},
   "source": [
    "## Inspecting the data\n",
    "- `Unnamed: 0`: This appears to be an index value to represent the ID of the review. We can take a look at the length of the - unique values and see if it matches with the number of rows. If so, then we can drop this column.  \n",
    "- `name`: This column is a string. It contains the name of the whisky, and the alcohol content of the whisky as well. The age of the whisky occasionally appears here. The age is something we might be able to extract from this column and use as a feature.   \n",
    "- `category`: This classifies the whisky into different types of whiskys suchas a single versus a blended malt.   \n",
    "- `review.point`: This is a numeric column. This is the rating of the whisky.   \n",
    "- `price`: The price of the whisky. Oddly enough, this is a string. To use this as a feature in our model, we will need to convert this to a numeric data type.   \n",
    "- `currency`: Another string. This appears to denote what type of currency the price is in (USD vs. EUR). Perhaps we need to convert the prices so they are all the same currency for a fair comparison.   \n",
    "- `description`: This is the review of the whisky.   \n",
    "\n",
    "We can perform further inspection of `Unnamed: 0` to see if it can be dropped, and whether or not there is more than one currency. If so, we need to convert. As this column only contains a symbol, we can drop this once we confirm the prices are all using the same currency. "
   ]
  },
  {
   "cell_type": "code",
   "execution_count": 4,
   "id": "495aaac0",
   "metadata": {},
   "outputs": [
    {
     "data": {
      "text/plain": [
       "True"
      ]
     },
     "execution_count": 4,
     "metadata": {},
     "output_type": "execute_result"
    }
   ],
   "source": [
    "# Does the Unnamed: 0 column have the same length as the number of rows?\n",
    "len(data['Unnamed: 0'].unique()) == data.shape[0]"
   ]
  },
  {
   "cell_type": "code",
   "execution_count": 5,
   "id": "7f76fa54",
   "metadata": {},
   "outputs": [
    {
     "data": {
      "text/plain": [
       "$    2247\n",
       "Name: currency, dtype: int64"
      ]
     },
     "execution_count": 5,
     "metadata": {},
     "output_type": "execute_result"
    }
   ],
   "source": [
    "# Checking currency to see the different currencies used in the dataset\n",
    "data['currency'].value_counts()"
   ]
  },
  {
   "cell_type": "markdown",
   "id": "074d9620",
   "metadata": {},
   "source": [
    "## Dropping columns\n",
    "`Unnamed: 0` does appear to be the same length as the number of rows, indicating that this is just an index. It is safe to drop this column. There also appears to be only one type of currency in our dataset. We can safely drop `currency`, and we do not require to convert any of the prices. "
   ]
  },
  {
   "cell_type": "code",
   "execution_count": 6,
   "id": "e258ed47",
   "metadata": {},
   "outputs": [
    {
     "data": {
      "text/html": [
       "<div>\n",
       "<style scoped>\n",
       "    .dataframe tbody tr th:only-of-type {\n",
       "        vertical-align: middle;\n",
       "    }\n",
       "\n",
       "    .dataframe tbody tr th {\n",
       "        vertical-align: top;\n",
       "    }\n",
       "\n",
       "    .dataframe thead th {\n",
       "        text-align: right;\n",
       "    }\n",
       "</style>\n",
       "<table border=\"1\" class=\"dataframe\">\n",
       "  <thead>\n",
       "    <tr style=\"text-align: right;\">\n",
       "      <th></th>\n",
       "      <th>name</th>\n",
       "      <th>category</th>\n",
       "      <th>review.point</th>\n",
       "      <th>price</th>\n",
       "      <th>description</th>\n",
       "    </tr>\n",
       "  </thead>\n",
       "  <tbody>\n",
       "    <tr>\n",
       "      <th>0</th>\n",
       "      <td>Johnnie Walker Blue Label, 40%</td>\n",
       "      <td>Blended Scotch Whisky</td>\n",
       "      <td>97</td>\n",
       "      <td>225</td>\n",
       "      <td>Magnificently powerful and intense. Caramels, ...</td>\n",
       "    </tr>\n",
       "    <tr>\n",
       "      <th>1</th>\n",
       "      <td>Black Bowmore, 1964 vintage, 42 year old, 40.5%</td>\n",
       "      <td>Single Malt Scotch</td>\n",
       "      <td>97</td>\n",
       "      <td>4500.00</td>\n",
       "      <td>What impresses me most is how this whisky evol...</td>\n",
       "    </tr>\n",
       "    <tr>\n",
       "      <th>2</th>\n",
       "      <td>Bowmore 46 year old (distilled 1964), 42.9%</td>\n",
       "      <td>Single Malt Scotch</td>\n",
       "      <td>97</td>\n",
       "      <td>13500.00</td>\n",
       "      <td>There have been some legendary Bowmores from t...</td>\n",
       "    </tr>\n",
       "    <tr>\n",
       "      <th>3</th>\n",
       "      <td>Compass Box The General, 53.4%</td>\n",
       "      <td>Blended Malt Scotch Whisky</td>\n",
       "      <td>96</td>\n",
       "      <td>325</td>\n",
       "      <td>With a name inspired by a 1926 Buster Keaton m...</td>\n",
       "    </tr>\n",
       "    <tr>\n",
       "      <th>4</th>\n",
       "      <td>Chivas Regal Ultis, 40%</td>\n",
       "      <td>Blended Malt Scotch Whisky</td>\n",
       "      <td>96</td>\n",
       "      <td>160</td>\n",
       "      <td>Captivating, enticing, and wonderfully charmin...</td>\n",
       "    </tr>\n",
       "  </tbody>\n",
       "</table>\n",
       "</div>"
      ],
      "text/plain": [
       "                                              name  \\\n",
       "0                   Johnnie Walker Blue Label, 40%   \n",
       "1  Black Bowmore, 1964 vintage, 42 year old, 40.5%   \n",
       "2      Bowmore 46 year old (distilled 1964), 42.9%   \n",
       "3                   Compass Box The General, 53.4%   \n",
       "4                          Chivas Regal Ultis, 40%   \n",
       "\n",
       "                     category  review.point     price  \\\n",
       "0       Blended Scotch Whisky            97       225   \n",
       "1          Single Malt Scotch            97   4500.00   \n",
       "2          Single Malt Scotch            97  13500.00   \n",
       "3  Blended Malt Scotch Whisky            96       325   \n",
       "4  Blended Malt Scotch Whisky            96       160   \n",
       "\n",
       "                                         description  \n",
       "0  Magnificently powerful and intense. Caramels, ...  \n",
       "1  What impresses me most is how this whisky evol...  \n",
       "2  There have been some legendary Bowmores from t...  \n",
       "3  With a name inspired by a 1926 Buster Keaton m...  \n",
       "4  Captivating, enticing, and wonderfully charmin...  "
      ]
     },
     "execution_count": 6,
     "metadata": {},
     "output_type": "execute_result"
    }
   ],
   "source": [
    "# Dropping columns\n",
    "data.drop(['Unnamed: 0', 'currency'], axis=1, inplace=True)\n",
    "\n",
    "# Inspect the data\n",
    "data.head()"
   ]
  },
  {
   "cell_type": "markdown",
   "id": "44346ca4",
   "metadata": {},
   "source": [
    "## Missing and duplicated data\n",
    "Next, we will inspect our data for missing and duplicated data."
   ]
  },
  {
   "cell_type": "code",
   "execution_count": 7,
   "id": "4999db83",
   "metadata": {},
   "outputs": [
    {
     "data": {
      "text/plain": [
       "name            0\n",
       "category        0\n",
       "review.point    0\n",
       "price           0\n",
       "description     0\n",
       "dtype: int64"
      ]
     },
     "execution_count": 7,
     "metadata": {},
     "output_type": "execute_result"
    }
   ],
   "source": [
    "# Check for missing data\n",
    "data.isna().sum()"
   ]
  },
  {
   "cell_type": "code",
   "execution_count": 8,
   "id": "d12567d9",
   "metadata": {},
   "outputs": [
    {
     "data": {
      "text/plain": [
       "2"
      ]
     },
     "execution_count": 8,
     "metadata": {},
     "output_type": "execute_result"
    }
   ],
   "source": [
    "# Check for duplicated data\n",
    "data.duplicated().sum()"
   ]
  },
  {
   "cell_type": "code",
   "execution_count": 9,
   "id": "cdcfcfbc",
   "metadata": {},
   "outputs": [
    {
     "data": {
      "text/html": [
       "<div>\n",
       "<style scoped>\n",
       "    .dataframe tbody tr th:only-of-type {\n",
       "        vertical-align: middle;\n",
       "    }\n",
       "\n",
       "    .dataframe tbody tr th {\n",
       "        vertical-align: top;\n",
       "    }\n",
       "\n",
       "    .dataframe thead th {\n",
       "        text-align: right;\n",
       "    }\n",
       "</style>\n",
       "<table border=\"1\" class=\"dataframe\">\n",
       "  <thead>\n",
       "    <tr style=\"text-align: right;\">\n",
       "      <th></th>\n",
       "      <th>name</th>\n",
       "      <th>category</th>\n",
       "      <th>review.point</th>\n",
       "      <th>price</th>\n",
       "      <th>description</th>\n",
       "    </tr>\n",
       "  </thead>\n",
       "  <tbody>\n",
       "    <tr>\n",
       "      <th>537</th>\n",
       "      <td>Chapter 7 (undisclosed Highland distillery), 5...</td>\n",
       "      <td>Single Malt Scotch</td>\n",
       "      <td>90</td>\n",
       "      <td>180</td>\n",
       "      <td>Swiss-based Chapter 7 released this 19 year ol...</td>\n",
       "    </tr>\n",
       "    <tr>\n",
       "      <th>570</th>\n",
       "      <td>Chapter 7 (undisclosed Highland distillery), 5...</td>\n",
       "      <td>Single Malt Scotch</td>\n",
       "      <td>90</td>\n",
       "      <td>180</td>\n",
       "      <td>Swiss-based Chapter 7 released this 19 year ol...</td>\n",
       "    </tr>\n",
       "    <tr>\n",
       "      <th>2116</th>\n",
       "      <td>Ledaig, 10 year old, 43%</td>\n",
       "      <td>Single Malt Scotch</td>\n",
       "      <td>80</td>\n",
       "      <td>48.00</td>\n",
       "      <td>Sweet, ripe barley, balanced by damp peat, tar...</td>\n",
       "    </tr>\n",
       "    <tr>\n",
       "      <th>2125</th>\n",
       "      <td>Ledaig, 10 year old, 43%</td>\n",
       "      <td>Single Malt Scotch</td>\n",
       "      <td>80</td>\n",
       "      <td>48.00</td>\n",
       "      <td>Sweet, ripe barley, balanced by damp peat, tar...</td>\n",
       "    </tr>\n",
       "  </tbody>\n",
       "</table>\n",
       "</div>"
      ],
      "text/plain": [
       "                                                   name            category  \\\n",
       "537   Chapter 7 (undisclosed Highland distillery), 5...  Single Malt Scotch   \n",
       "570   Chapter 7 (undisclosed Highland distillery), 5...  Single Malt Scotch   \n",
       "2116                           Ledaig, 10 year old, 43%  Single Malt Scotch   \n",
       "2125                           Ledaig, 10 year old, 43%  Single Malt Scotch   \n",
       "\n",
       "      review.point  price                                        description  \n",
       "537             90    180  Swiss-based Chapter 7 released this 19 year ol...  \n",
       "570             90    180  Swiss-based Chapter 7 released this 19 year ol...  \n",
       "2116            80  48.00  Sweet, ripe barley, balanced by damp peat, tar...  \n",
       "2125            80  48.00  Sweet, ripe barley, balanced by damp peat, tar...  "
      ]
     },
     "execution_count": 9,
     "metadata": {},
     "output_type": "execute_result"
    }
   ],
   "source": [
    "# Inspect duplicated rows \n",
    "data[data.duplicated(keep=False)]"
   ]
  },
  {
   "cell_type": "markdown",
   "id": "c44e9f70",
   "metadata": {},
   "source": [
    "We do not have any missing rows. When we checked for duplicated rows, we found that we had 2 duplicated rows. We will drop those now. "
   ]
  },
  {
   "cell_type": "code",
   "execution_count": 10,
   "id": "fe619dc7",
   "metadata": {
    "scrolled": false
   },
   "outputs": [
    {
     "name": "stdout",
     "output_type": "stream",
     "text": [
      "(2245, 5)\n"
     ]
    },
    {
     "data": {
      "text/html": [
       "<div>\n",
       "<style scoped>\n",
       "    .dataframe tbody tr th:only-of-type {\n",
       "        vertical-align: middle;\n",
       "    }\n",
       "\n",
       "    .dataframe tbody tr th {\n",
       "        vertical-align: top;\n",
       "    }\n",
       "\n",
       "    .dataframe thead th {\n",
       "        text-align: right;\n",
       "    }\n",
       "</style>\n",
       "<table border=\"1\" class=\"dataframe\">\n",
       "  <thead>\n",
       "    <tr style=\"text-align: right;\">\n",
       "      <th></th>\n",
       "      <th>name</th>\n",
       "      <th>category</th>\n",
       "      <th>review.point</th>\n",
       "      <th>price</th>\n",
       "      <th>description</th>\n",
       "    </tr>\n",
       "  </thead>\n",
       "  <tbody>\n",
       "    <tr>\n",
       "      <th>0</th>\n",
       "      <td>Johnnie Walker Blue Label, 40%</td>\n",
       "      <td>Blended Scotch Whisky</td>\n",
       "      <td>97</td>\n",
       "      <td>225</td>\n",
       "      <td>Magnificently powerful and intense. Caramels, ...</td>\n",
       "    </tr>\n",
       "    <tr>\n",
       "      <th>1</th>\n",
       "      <td>Black Bowmore, 1964 vintage, 42 year old, 40.5%</td>\n",
       "      <td>Single Malt Scotch</td>\n",
       "      <td>97</td>\n",
       "      <td>4500.00</td>\n",
       "      <td>What impresses me most is how this whisky evol...</td>\n",
       "    </tr>\n",
       "    <tr>\n",
       "      <th>2</th>\n",
       "      <td>Bowmore 46 year old (distilled 1964), 42.9%</td>\n",
       "      <td>Single Malt Scotch</td>\n",
       "      <td>97</td>\n",
       "      <td>13500.00</td>\n",
       "      <td>There have been some legendary Bowmores from t...</td>\n",
       "    </tr>\n",
       "    <tr>\n",
       "      <th>3</th>\n",
       "      <td>Compass Box The General, 53.4%</td>\n",
       "      <td>Blended Malt Scotch Whisky</td>\n",
       "      <td>96</td>\n",
       "      <td>325</td>\n",
       "      <td>With a name inspired by a 1926 Buster Keaton m...</td>\n",
       "    </tr>\n",
       "    <tr>\n",
       "      <th>4</th>\n",
       "      <td>Chivas Regal Ultis, 40%</td>\n",
       "      <td>Blended Malt Scotch Whisky</td>\n",
       "      <td>96</td>\n",
       "      <td>160</td>\n",
       "      <td>Captivating, enticing, and wonderfully charmin...</td>\n",
       "    </tr>\n",
       "  </tbody>\n",
       "</table>\n",
       "</div>"
      ],
      "text/plain": [
       "                                              name  \\\n",
       "0                   Johnnie Walker Blue Label, 40%   \n",
       "1  Black Bowmore, 1964 vintage, 42 year old, 40.5%   \n",
       "2      Bowmore 46 year old (distilled 1964), 42.9%   \n",
       "3                   Compass Box The General, 53.4%   \n",
       "4                          Chivas Regal Ultis, 40%   \n",
       "\n",
       "                     category  review.point     price  \\\n",
       "0       Blended Scotch Whisky            97       225   \n",
       "1          Single Malt Scotch            97   4500.00   \n",
       "2          Single Malt Scotch            97  13500.00   \n",
       "3  Blended Malt Scotch Whisky            96       325   \n",
       "4  Blended Malt Scotch Whisky            96       160   \n",
       "\n",
       "                                         description  \n",
       "0  Magnificently powerful and intense. Caramels, ...  \n",
       "1  What impresses me most is how this whisky evol...  \n",
       "2  There have been some legendary Bowmores from t...  \n",
       "3  With a name inspired by a 1926 Buster Keaton m...  \n",
       "4  Captivating, enticing, and wonderfully charmin...  "
      ]
     },
     "execution_count": 10,
     "metadata": {},
     "output_type": "execute_result"
    }
   ],
   "source": [
    "# Dropping duplicated rows\n",
    "data.drop_duplicates(inplace=True, ignore_index=True)\n",
    "\n",
    "# Check shape of data. There should be two less rows, so there should be 2245 rows. \n",
    "print(data.shape)\n",
    "\n",
    "# Inspect data again\n",
    "data.head()"
   ]
  },
  {
   "cell_type": "code",
   "execution_count": 11,
   "id": "170a18de",
   "metadata": {},
   "outputs": [
    {
     "data": {
      "text/plain": [
       "(2245, 5)"
      ]
     },
     "execution_count": 11,
     "metadata": {},
     "output_type": "execute_result"
    }
   ],
   "source": [
    "data.shape"
   ]
  },
  {
   "cell_type": "markdown",
   "id": "f172a4d8",
   "metadata": {},
   "source": [
    "***"
   ]
  },
  {
   "cell_type": "markdown",
   "id": "84db8409",
   "metadata": {},
   "source": [
    "## Looking at categories\n",
    "Next, we will at the categories. I am interested to see if there is any difference in the ratings based on the categories of the whisky. We will use boxplots and plot their distributions to investigate this.\n"
   ]
  },
  {
   "cell_type": "code",
   "execution_count": 12,
   "id": "d8a2d77f",
   "metadata": {},
   "outputs": [
    {
     "data": {
      "text/plain": [
       "Single Malt Scotch            1817\n",
       "Blended Scotch Whisky          211\n",
       "Blended Malt Scotch Whisky     132\n",
       "Single Grain Whisky             57\n",
       "Grain Scotch Whisky             28\n",
       "Name: category, dtype: int64"
      ]
     },
     "execution_count": 12,
     "metadata": {},
     "output_type": "execute_result"
    }
   ],
   "source": [
    "# Number of whiskys per category \n",
    "data['category'].value_counts()"
   ]
  },
  {
   "cell_type": "code",
   "execution_count": 13,
   "id": "6bd7e32a",
   "metadata": {},
   "outputs": [
    {
     "name": "stderr",
     "output_type": "stream",
     "text": [
      "C:\\Users\\andre\\anaconda3\\envs\\capstone\\lib\\site-packages\\seaborn\\distributions.py:2619: FutureWarning: `distplot` is a deprecated function and will be removed in a future version. Please adapt your code to use either `displot` (a figure-level function with similar flexibility) or `kdeplot` (an axes-level function for kernel density plots).\n",
      "  warnings.warn(msg, FutureWarning)\n",
      "C:\\Users\\andre\\anaconda3\\envs\\capstone\\lib\\site-packages\\seaborn\\distributions.py:2619: FutureWarning: `distplot` is a deprecated function and will be removed in a future version. Please adapt your code to use either `displot` (a figure-level function with similar flexibility) or `kdeplot` (an axes-level function for kernel density plots).\n",
      "  warnings.warn(msg, FutureWarning)\n",
      "C:\\Users\\andre\\anaconda3\\envs\\capstone\\lib\\site-packages\\seaborn\\distributions.py:2619: FutureWarning: `distplot` is a deprecated function and will be removed in a future version. Please adapt your code to use either `displot` (a figure-level function with similar flexibility) or `kdeplot` (an axes-level function for kernel density plots).\n",
      "  warnings.warn(msg, FutureWarning)\n",
      "C:\\Users\\andre\\anaconda3\\envs\\capstone\\lib\\site-packages\\seaborn\\distributions.py:2619: FutureWarning: `distplot` is a deprecated function and will be removed in a future version. Please adapt your code to use either `displot` (a figure-level function with similar flexibility) or `kdeplot` (an axes-level function for kernel density plots).\n",
      "  warnings.warn(msg, FutureWarning)\n",
      "C:\\Users\\andre\\anaconda3\\envs\\capstone\\lib\\site-packages\\seaborn\\distributions.py:2619: FutureWarning: `distplot` is a deprecated function and will be removed in a future version. Please adapt your code to use either `displot` (a figure-level function with similar flexibility) or `kdeplot` (an axes-level function for kernel density plots).\n",
      "  warnings.warn(msg, FutureWarning)\n"
     ]
    },
    {
     "data": {
      "image/png": "[encoded data removed]",
      "text/plain": [
       "<Figure size 1080x720 with 1 Axes>"
      ]
     },
     "metadata": {
      "needs_background": "light"
     },
     "output_type": "display_data"
    }
   ],
   "source": [
    "# plotting distributions on the same graph\n",
    "\n",
    "import seaborn as sns\n",
    "sms = data[data['category'] == 'Single Malt Scotch']\n",
    "bsw = data[data['category'] == 'Blended Scotch Whisky']\n",
    "bmsw = data[data['category'] == 'Blended Malt Scotch Whisky']\n",
    "sgw = data[data['category'] == 'Single Grain Whisky']\n",
    "gsw = data[data['category'] == 'Grain Scotch Whisky']\n",
    " \n",
    "plt.figure(figsize=(15,10))\n",
    "sns.distplot(sms['review.point'], hist=False, label='Single Malt Scotch')\n",
    "sns.distplot(bsw['review.point'], hist=False, label='Blended Scotch Whisky')\n",
    "sns.distplot(bmsw['review.point'], hist=False, label='Blended Malt Scotch Whisky')\n",
    "sns.distplot(sgw['review.point'], hist=False, label='Single Grain Whisky')\n",
    "sns.distplot(gsw['review.point'], hist=False, label='Grain Scotch Whisky')\n",
    "# sns.distplot(data['review.point'], hist=False, label='All Whisky')\n",
    "plt.legend()\n",
    "plt.show()"
   ]
  },
  {
   "cell_type": "code",
   "execution_count": 14,
   "id": "e60ffd6d",
   "metadata": {},
   "outputs": [
    {
     "data": {
      "image/png": "[encoded data removed]",
      "text/plain": [
       "<Figure size 432x288 with 1 Axes>"
      ]
     },
     "metadata": {
      "needs_background": "light"
     },
     "output_type": "display_data"
    }
   ],
   "source": [
    "# Plotting boxplots for each category\n",
    "plt.figure()\n",
    "sns.boxplot(x=data['category'], y=data['review.point'])\n",
    "plt.xticks(rotation=45)\n",
    "plt.show()"
   ]
  },
  {
   "cell_type": "markdown",
   "id": "04c61423",
   "metadata": {},
   "source": [
    "While there does appear to be a large amount of overlap distributions for the different categories, the shape of the distribution functions vary slightly from category to category. In particular, the Single Grain Whisky has a longer tail than others, Blended Malt Scotch Whiskys have their distibution function shifted slightly to the right, and the Single Malt Scotches have a sligtly narrower distribution function. With this in mind, we will one-hot encode categories, and drop the original `category` column. "
   ]
  },
  {
   "cell_type": "code",
   "execution_count": 15,
   "id": "45afd0ea",
   "metadata": {},
   "outputs": [
    {
     "data": {
      "text/html": [
       "<div>\n",
       "<style scoped>\n",
       "    .dataframe tbody tr th:only-of-type {\n",
       "        vertical-align: middle;\n",
       "    }\n",
       "\n",
       "    .dataframe tbody tr th {\n",
       "        vertical-align: top;\n",
       "    }\n",
       "\n",
       "    .dataframe thead th {\n",
       "        text-align: right;\n",
       "    }\n",
       "</style>\n",
       "<table border=\"1\" class=\"dataframe\">\n",
       "  <thead>\n",
       "    <tr style=\"text-align: right;\">\n",
       "      <th></th>\n",
       "      <th>name</th>\n",
       "      <th>review.point</th>\n",
       "      <th>price</th>\n",
       "      <th>description</th>\n",
       "      <th>Blended Malt Scotch Whisky</th>\n",
       "      <th>Blended Scotch Whisky</th>\n",
       "      <th>Grain Scotch Whisky</th>\n",
       "      <th>Single Grain Whisky</th>\n",
       "      <th>Single Malt Scotch</th>\n",
       "    </tr>\n",
       "  </thead>\n",
       "  <tbody>\n",
       "    <tr>\n",
       "      <th>0</th>\n",
       "      <td>Johnnie Walker Blue Label, 40%</td>\n",
       "      <td>97</td>\n",
       "      <td>225</td>\n",
       "      <td>Magnificently powerful and intense. Caramels, ...</td>\n",
       "      <td>0.0</td>\n",
       "      <td>1.0</td>\n",
       "      <td>0.0</td>\n",
       "      <td>0.0</td>\n",
       "      <td>0.0</td>\n",
       "    </tr>\n",
       "    <tr>\n",
       "      <th>1</th>\n",
       "      <td>Black Bowmore, 1964 vintage, 42 year old, 40.5%</td>\n",
       "      <td>97</td>\n",
       "      <td>4500.00</td>\n",
       "      <td>What impresses me most is how this whisky evol...</td>\n",
       "      <td>0.0</td>\n",
       "      <td>0.0</td>\n",
       "      <td>0.0</td>\n",
       "      <td>0.0</td>\n",
       "      <td>1.0</td>\n",
       "    </tr>\n",
       "    <tr>\n",
       "      <th>2</th>\n",
       "      <td>Bowmore 46 year old (distilled 1964), 42.9%</td>\n",
       "      <td>97</td>\n",
       "      <td>13500.00</td>\n",
       "      <td>There have been some legendary Bowmores from t...</td>\n",
       "      <td>0.0</td>\n",
       "      <td>0.0</td>\n",
       "      <td>0.0</td>\n",
       "      <td>0.0</td>\n",
       "      <td>1.0</td>\n",
       "    </tr>\n",
       "    <tr>\n",
       "      <th>3</th>\n",
       "      <td>Compass Box The General, 53.4%</td>\n",
       "      <td>96</td>\n",
       "      <td>325</td>\n",
       "      <td>With a name inspired by a 1926 Buster Keaton m...</td>\n",
       "      <td>1.0</td>\n",
       "      <td>0.0</td>\n",
       "      <td>0.0</td>\n",
       "      <td>0.0</td>\n",
       "      <td>0.0</td>\n",
       "    </tr>\n",
       "    <tr>\n",
       "      <th>4</th>\n",
       "      <td>Chivas Regal Ultis, 40%</td>\n",
       "      <td>96</td>\n",
       "      <td>160</td>\n",
       "      <td>Captivating, enticing, and wonderfully charmin...</td>\n",
       "      <td>1.0</td>\n",
       "      <td>0.0</td>\n",
       "      <td>0.0</td>\n",
       "      <td>0.0</td>\n",
       "      <td>0.0</td>\n",
       "    </tr>\n",
       "  </tbody>\n",
       "</table>\n",
       "</div>"
      ],
      "text/plain": [
       "                                              name  review.point     price  \\\n",
       "0                   Johnnie Walker Blue Label, 40%            97       225   \n",
       "1  Black Bowmore, 1964 vintage, 42 year old, 40.5%            97   4500.00   \n",
       "2      Bowmore 46 year old (distilled 1964), 42.9%            97  13500.00   \n",
       "3                   Compass Box The General, 53.4%            96       325   \n",
       "4                          Chivas Regal Ultis, 40%            96       160   \n",
       "\n",
       "                                         description  \\\n",
       "0  Magnificently powerful and intense. Caramels, ...   \n",
       "1  What impresses me most is how this whisky evol...   \n",
       "2  There have been some legendary Bowmores from t...   \n",
       "3  With a name inspired by a 1926 Buster Keaton m...   \n",
       "4  Captivating, enticing, and wonderfully charmin...   \n",
       "\n",
       "   Blended Malt Scotch Whisky  Blended Scotch Whisky  Grain Scotch Whisky  \\\n",
       "0                         0.0                    1.0                  0.0   \n",
       "1                         0.0                    0.0                  0.0   \n",
       "2                         0.0                    0.0                  0.0   \n",
       "3                         1.0                    0.0                  0.0   \n",
       "4                         1.0                    0.0                  0.0   \n",
       "\n",
       "   Single Grain Whisky  Single Malt Scotch  \n",
       "0                  0.0                 0.0  \n",
       "1                  0.0                 1.0  \n",
       "2                  0.0                 1.0  \n",
       "3                  0.0                 0.0  \n",
       "4                  0.0                 0.0  "
      ]
     },
     "execution_count": 15,
     "metadata": {},
     "output_type": "execute_result"
    }
   ],
   "source": [
    "# Instantiate encoder\n",
    "ohe = OneHotEncoder()\n",
    "\n",
    "# Column needs to be a 1D array \n",
    "category_array = np.array(data['category']).reshape(-1,1) \n",
    "\n",
    "# Fit the encoder\n",
    "ohe.fit(category_array)\n",
    "\n",
    "# One-hot encode the column, and put the transformed data into a dataframe \n",
    "ohe_category = ohe.transform(category_array).toarray()\n",
    "\n",
    "# Feature names from encoder adds a prefix and looks messy. Hard code the column names instead\n",
    "columns = ['Blended Malt Scotch Whisky', 'Blended Scotch Whisky', 'Grain Scotch Whisky', 'Single Grain Whisky', 'Single Malt Scotch']\n",
    "ohe_df = pd.DataFrame(data=ohe_category, columns=columns)\n",
    "\n",
    "# Add these columns to data, and drop original category column\n",
    "data = pd.concat([data, ohe_df], axis=1)\n",
    "data.drop('category', axis=1, inplace=True)\n",
    "\n",
    "# Inspect data \n",
    "data.head()\n"
   ]
  },
  {
   "cell_type": "markdown",
   "id": "650b85ad",
   "metadata": {},
   "source": [
    "***"
   ]
  },
  {
   "cell_type": "markdown",
   "id": "5575cef6",
   "metadata": {},
   "source": [
    "## Cleaning Price\n",
    "Now that we have dropped some columns, we need to tackle cleaning `price`, and then move on to `description`. \n",
    "Let's first look at the unique values in this column"
   ]
  },
  {
   "cell_type": "code",
   "execution_count": 16,
   "id": "21be8b5f",
   "metadata": {},
   "outputs": [
    {
     "data": {
      "text/plain": [
       "array(['225', '4500.00', '13500.00', '325', '160', '85.00', '6250.00',\n",
       "       '11000.00', '1500.00', '3360', '750.00', '3108', '105.00', '120',\n",
       "       '3500.00', '70.00', '20000.00', '$15,000 or $60,000/set', '26650',\n",
       "       '400.00', '200.00', '455.00', '750', '460.00', '2525.00',\n",
       "       '1250.00', '280.00', '500.00', '215.00', '300.00', '2000.00',\n",
       "       '4000', '225.00', '60.00', '180', '3500', '181.00', '800.00',\n",
       "       '250.00', '6000.00', '30,000', '645.00', '11824', '1250', '550.00',\n",
       "       '700.00', '140.00', '387', '5730.00', '100', '325.00', '350.00',\n",
       "       '6088.00', '112.00', '109.00', '130', '100.00', '120.00',\n",
       "       '1900.00', '1400', '84.00', '3000', '164', '50.00', '150', '140',\n",
       "       '175', '1100', '157000.00', '850', '34.00', '600.00', '55.00',\n",
       "       '60', '60,000/set', '90.00', '191.00', '1925', '2200', '1,700',\n",
       "       '430.00', '1,100', '150.00', '135', '3000.00', '60,000', '95.00',\n",
       "       '262', '599.00', '9420.00', '45', '2850.00', '1000.00', '3657.00',\n",
       "       '127.00', '167', '1200', '525.00', '80.00', '304', '370.00',\n",
       "       '3300', '3,500', '580.00', '240.00', '65.00', '4500', '4,000',\n",
       "       '170.00', '300', '248.00', '2000', '76', '236', '173', '560',\n",
       "       '380', '200', '145', '260', '290', '85', '115.00', '75.00', '275',\n",
       "       '125', '815', '53', '99', '250', '155.00', '263.00', '1600',\n",
       "       '1722', '1300.00', '125.00', '5000', '1230', '7,500', '195.00',\n",
       "       '336.00', '12000.00', '580', '16000.00', '383', '4640', '800',\n",
       "       '110.00', '375.00', '2050.00', '220', '615', '160.00', '220.00',\n",
       "       '485', '382', '438.00', '106.00', '132.00', '3700.00', '624.00',\n",
       "       '152', '166', '148.00', '52.00', '294', '488.00', '1400.00',\n",
       "       '275.00', '205.00', '850.00', '600', '90', '260.00', '730.00',\n",
       "       '75', '1000', '162.00', '137', '48.00', '70', '80', '66', '450',\n",
       "       '216', '50', '65', '840', '400', '499', '110', '550', '62.00',\n",
       "       '369', '350', '283.00', '1,735', '330', '130.00', '258', '96.00',\n",
       "       '500', '175.00', '236.00', '24000.00', '530', '592', '407.00',\n",
       "       '320', '113', '418', '131.00', '530.00', '9500', '395.00',\n",
       "       '1593.00', '875.00', '135.00', '1450', '118.00', '2750.00',\n",
       "       '2313.00', '375', '359', '23427', '329.00', '81.00', '51', '657',\n",
       "       '111', '280', '536', '763', '246', '103', '79', '158', '169',\n",
       "       '287.00', '59', '40.00', '30', '450.00', '27620', '555', '460',\n",
       "       '92.00', '118', '285.00', '234.00', '57.00', '72', '87', '265.00',\n",
       "       '133.00', '700', '59.00', '8000.00', '1980.00', '975', '1215',\n",
       "       '512.00', '289.00', '177', '71', '900', '540.00', '270.00', '379',\n",
       "       '2339', '185.00', '471.00', '421', '36.00', '21000.00', '1230.00',\n",
       "       '119.00', '53.00', '330.00', '188', '46.00', '900.00', '162',\n",
       "       '1500', '252', '180.00', '117.00', '187.00', '105', '95', '157',\n",
       "       '93', '127', '256.00', '307', '349.00', '88', '230.00', '415',\n",
       "       '30.00', '989', '109', '76.00', '232.00', '55', '936', '229',\n",
       "       '115', '45.00', '399', '104', '117', '390', '2020', '698', '422',\n",
       "       '190', '295', '587', '108', '43', '453', '235', '165', '35',\n",
       "       '44/liter', '32.00', '33', '151', '191', '78', '87.00', '86',\n",
       "       '174', '1,500.00', '322', '83', '420.00', '67.00', '17600.00',\n",
       "       '3600.00', '340', '145.00', '245.00', '97', '1052', '99.00', '98',\n",
       "       '1087', '557', '189.00', '165.00', '305.00', '123', '313',\n",
       "       '824.00', '210.00', '2880.00', '1348', '560.00', '63.00', '5450',\n",
       "       '155', '154', '94.00', '279.00', '3700', '261.00', '485.00',\n",
       "       '61.00', '52', '290.00', '625', '31.00', '172.00', '124', '64',\n",
       "       '310', '35.00', '69', '1150', '74', '181', '255', '114', '46',\n",
       "       '168', '718', '68', '549', '57', '7000', '128', '503', '749', '84',\n",
       "       '406.00', '38.00', '126.00', '3378', '43.00', '119', '820',\n",
       "       '3982.00', '599', '610', '385', '101.00', '230', '79.00', '126',\n",
       "       '156.00', '2260', '480', '665', '81', '82', '124.00', '54', '539',\n",
       "       '270', '77.00', '142', '29', '650.00', '103.00', '567', '89',\n",
       "       '2280', '190.00', '89.00', '553.00', '780', '40', '41.00',\n",
       "       '359.00', '1,400', '101', '37.00', '139', '297', '49.00', '294.00',\n",
       "       '91', '676', '61', '265', '141', '636', '548', '62', '63', '25',\n",
       "       '13', '267', '48', '199.00', '66.00', '607.00', '6542', '138',\n",
       "       '3104.00', '156', '69.00', '72.00', '98.00', '138.00', '14999',\n",
       "       '114.00', '88.00', '451', '386.00', '392.00', '1456', '4664.00',\n",
       "       '86.00', '637.00', '58', '56.00', '78.00', '322.00', '549.00',\n",
       "       '92', '950.00', '77', '353', '337', '189', '133', '144', '102',\n",
       "       '178', '106', '42', '170', '345', '132', '302', '277', '1750',\n",
       "       '288', '116', '805', '54.00', '129', '630', '455', '74.00',\n",
       "       '3200.00', '803.00', '589', '1279', '694.00', '625.00', '956.00',\n",
       "       '410.00', '653.00', '202', '1013', '121.00', '384', '58.00',\n",
       "       '113.00', '83.00', '353.00', '185', '159', '176', '122', '39',\n",
       "       '29.00', '20', '38', '179.00', '224', '67', '199', '47', '32',\n",
       "       '26', '1872', '37', '239', '134.00', '6400.00', '33.00', '505',\n",
       "       '111.00', '796.00', '1141', '207', '212.00', '73', '174.00',\n",
       "       '137.00', '143', '107', '122.00', '297.00', '25.00', '604', '31',\n",
       "       '18', '22', '44', '512', '17', '23', '44.00', '1008', '274',\n",
       "       '153.00', '56', '136.00', '724', '123.00', '68.00', '246.00',\n",
       "       '282', '952.00', '1900', '27', '131', '17.00', '49', '96', '475',\n",
       "       '183', '161', '16', '39.00', '690', '592.00', '440.00', '51.00',\n",
       "       '93.00', '121', '97.00', '348', '195', '212', '465.00', '288.00',\n",
       "       '42.00', '157.00', '15', '206', '153', '899.00', '238.00',\n",
       "       '239.00', '21', '134', '14', '12', '146', '576', '1800.00',\n",
       "       '82.00', '104.00', '995.00', '201', '1113', '215', '302.00',\n",
       "       '28.00', '24', '1318.00', '820.00', '27.00', '24.00', '1700.00'],\n",
       "      dtype=object)"
      ]
     },
     "execution_count": 16,
     "metadata": {},
     "output_type": "execute_result"
    }
   ],
   "source": [
    "# Look at the unique values\n",
    "data['price'].unique()"
   ]
  },
  {
   "cell_type": "markdown",
   "id": "8303493c",
   "metadata": {},
   "source": [
    "Looking at the list above, there are some strange values. Some prices seem like they are part of a set. Let's look at those rows. "
   ]
  },
  {
   "cell_type": "code",
   "execution_count": 17,
   "id": "958712ed",
   "metadata": {},
   "outputs": [
    {
     "data": {
      "text/html": [
       "<div>\n",
       "<style scoped>\n",
       "    .dataframe tbody tr th:only-of-type {\n",
       "        vertical-align: middle;\n",
       "    }\n",
       "\n",
       "    .dataframe tbody tr th {\n",
       "        vertical-align: top;\n",
       "    }\n",
       "\n",
       "    .dataframe thead th {\n",
       "        text-align: right;\n",
       "    }\n",
       "</style>\n",
       "<table border=\"1\" class=\"dataframe\">\n",
       "  <thead>\n",
       "    <tr style=\"text-align: right;\">\n",
       "      <th></th>\n",
       "      <th>name</th>\n",
       "      <th>review.point</th>\n",
       "      <th>price</th>\n",
       "      <th>description</th>\n",
       "      <th>Blended Malt Scotch Whisky</th>\n",
       "      <th>Blended Scotch Whisky</th>\n",
       "      <th>Grain Scotch Whisky</th>\n",
       "      <th>Single Grain Whisky</th>\n",
       "      <th>Single Malt Scotch</th>\n",
       "    </tr>\n",
       "  </thead>\n",
       "  <tbody>\n",
       "    <tr>\n",
       "      <th>19</th>\n",
       "      <td>Balvenie 1973 43 year old, 46.6%</td>\n",
       "      <td>95</td>\n",
       "      <td>$15,000 or $60,000/set</td>\n",
       "      <td>This expression was matured in a European oak ...</td>\n",
       "      <td>0.0</td>\n",
       "      <td>0.0</td>\n",
       "      <td>0.0</td>\n",
       "      <td>0.0</td>\n",
       "      <td>1.0</td>\n",
       "    </tr>\n",
       "    <tr>\n",
       "      <th>95</th>\n",
       "      <td>Balvenie 1961 55 year old, 41.7%</td>\n",
       "      <td>93</td>\n",
       "      <td>60,000/set</td>\n",
       "      <td>Aged in a European oak oloroso sherry hogshead...</td>\n",
       "      <td>0.0</td>\n",
       "      <td>0.0</td>\n",
       "      <td>0.0</td>\n",
       "      <td>0.0</td>\n",
       "      <td>1.0</td>\n",
       "    </tr>\n",
       "    <tr>\n",
       "      <th>410</th>\n",
       "      <td>Balvenie 1981 35 year old, 43.8%</td>\n",
       "      <td>90</td>\n",
       "      <td>60,000/set</td>\n",
       "      <td>A refill American oak hogshead matured this wh...</td>\n",
       "      <td>0.0</td>\n",
       "      <td>0.0</td>\n",
       "      <td>0.0</td>\n",
       "      <td>0.0</td>\n",
       "      <td>1.0</td>\n",
       "    </tr>\n",
       "    <tr>\n",
       "      <th>999</th>\n",
       "      <td>Balvenie 1993 23 year old, 51.9%</td>\n",
       "      <td>87</td>\n",
       "      <td>60,000/set</td>\n",
       "      <td>This was aged in a refill American oak hogshea...</td>\n",
       "      <td>0.0</td>\n",
       "      <td>0.0</td>\n",
       "      <td>0.0</td>\n",
       "      <td>0.0</td>\n",
       "      <td>1.0</td>\n",
       "    </tr>\n",
       "    <tr>\n",
       "      <th>1214</th>\n",
       "      <td>Balvenie 2004 13 year old, 58.2%</td>\n",
       "      <td>86</td>\n",
       "      <td>60,000/set</td>\n",
       "      <td>This expression was aged in a European oak olo...</td>\n",
       "      <td>0.0</td>\n",
       "      <td>0.0</td>\n",
       "      <td>0.0</td>\n",
       "      <td>0.0</td>\n",
       "      <td>1.0</td>\n",
       "    </tr>\n",
       "  </tbody>\n",
       "</table>\n",
       "</div>"
      ],
      "text/plain": [
       "                                  name  review.point                   price  \\\n",
       "19    Balvenie 1973 43 year old, 46.6%            95  $15,000 or $60,000/set   \n",
       "95    Balvenie 1961 55 year old, 41.7%            93              60,000/set   \n",
       "410   Balvenie 1981 35 year old, 43.8%            90              60,000/set   \n",
       "999   Balvenie 1993 23 year old, 51.9%            87              60,000/set   \n",
       "1214  Balvenie 2004 13 year old, 58.2%            86              60,000/set   \n",
       "\n",
       "                                            description  \\\n",
       "19    This expression was matured in a European oak ...   \n",
       "95    Aged in a European oak oloroso sherry hogshead...   \n",
       "410   A refill American oak hogshead matured this wh...   \n",
       "999   This was aged in a refill American oak hogshea...   \n",
       "1214  This expression was aged in a European oak olo...   \n",
       "\n",
       "      Blended Malt Scotch Whisky  Blended Scotch Whisky  Grain Scotch Whisky  \\\n",
       "19                           0.0                    0.0                  0.0   \n",
       "95                           0.0                    0.0                  0.0   \n",
       "410                          0.0                    0.0                  0.0   \n",
       "999                          0.0                    0.0                  0.0   \n",
       "1214                         0.0                    0.0                  0.0   \n",
       "\n",
       "      Single Grain Whisky  Single Malt Scotch  \n",
       "19                    0.0                 1.0  \n",
       "95                    0.0                 1.0  \n",
       "410                   0.0                 1.0  \n",
       "999                   0.0                 1.0  \n",
       "1214                  0.0                 1.0  "
      ]
     },
     "execution_count": 17,
     "metadata": {},
     "output_type": "execute_result"
    }
   ],
   "source": [
    "# Empty list to store index of rows that match our condition\n",
    "indices = []\n",
    "\n",
    "# Look for rows that have 60,000/set in the string\n",
    "for i, price_string in enumerate(data['price']):\n",
    "    words = price_string.split(' ')\n",
    "    if '60,000/set' in words:\n",
    "        indices.append(i)\n",
    "    if '$60,000/set' in words:\n",
    "        indices.append(i)\n",
    "\n",
    "# Look at rows that have values in 'price' column that match the above conditions\n",
    "data.iloc[indices]"
   ]
  },
  {
   "cell_type": "markdown",
   "id": "d19312f3",
   "metadata": {},
   "source": [
    "It looks like these rows are part of the same set, as they are from the same distiller, Balvenie. I think it makes sense to change the price to $15,000 for these rows. "
   ]
  },
  {
   "cell_type": "code",
   "execution_count": 18,
   "id": "1bd222e4",
   "metadata": {},
   "outputs": [
    {
     "name": "stderr",
     "output_type": "stream",
     "text": [
      "C:\\Users\\andre\\anaconda3\\envs\\capstone\\lib\\site-packages\\pandas\\core\\indexing.py:1732: SettingWithCopyWarning: \n",
      "A value is trying to be set on a copy of a slice from a DataFrame\n",
      "\n",
      "See the caveats in the documentation: https://pandas.pydata.org/pandas-docs/stable/user_guide/indexing.html#returning-a-view-versus-a-copy\n",
      "  self._setitem_single_block(indexer, value, name)\n"
     ]
    },
    {
     "data": {
      "text/html": [
       "<div>\n",
       "<style scoped>\n",
       "    .dataframe tbody tr th:only-of-type {\n",
       "        vertical-align: middle;\n",
       "    }\n",
       "\n",
       "    .dataframe tbody tr th {\n",
       "        vertical-align: top;\n",
       "    }\n",
       "\n",
       "    .dataframe thead th {\n",
       "        text-align: right;\n",
       "    }\n",
       "</style>\n",
       "<table border=\"1\" class=\"dataframe\">\n",
       "  <thead>\n",
       "    <tr style=\"text-align: right;\">\n",
       "      <th></th>\n",
       "      <th>name</th>\n",
       "      <th>review.point</th>\n",
       "      <th>price</th>\n",
       "      <th>description</th>\n",
       "      <th>Blended Malt Scotch Whisky</th>\n",
       "      <th>Blended Scotch Whisky</th>\n",
       "      <th>Grain Scotch Whisky</th>\n",
       "      <th>Single Grain Whisky</th>\n",
       "      <th>Single Malt Scotch</th>\n",
       "    </tr>\n",
       "  </thead>\n",
       "  <tbody>\n",
       "    <tr>\n",
       "      <th>19</th>\n",
       "      <td>Balvenie 1973 43 year old, 46.6%</td>\n",
       "      <td>95</td>\n",
       "      <td>15000</td>\n",
       "      <td>This expression was matured in a European oak ...</td>\n",
       "      <td>0.0</td>\n",
       "      <td>0.0</td>\n",
       "      <td>0.0</td>\n",
       "      <td>0.0</td>\n",
       "      <td>1.0</td>\n",
       "    </tr>\n",
       "    <tr>\n",
       "      <th>95</th>\n",
       "      <td>Balvenie 1961 55 year old, 41.7%</td>\n",
       "      <td>93</td>\n",
       "      <td>15000</td>\n",
       "      <td>Aged in a European oak oloroso sherry hogshead...</td>\n",
       "      <td>0.0</td>\n",
       "      <td>0.0</td>\n",
       "      <td>0.0</td>\n",
       "      <td>0.0</td>\n",
       "      <td>1.0</td>\n",
       "    </tr>\n",
       "    <tr>\n",
       "      <th>410</th>\n",
       "      <td>Balvenie 1981 35 year old, 43.8%</td>\n",
       "      <td>90</td>\n",
       "      <td>15000</td>\n",
       "      <td>A refill American oak hogshead matured this wh...</td>\n",
       "      <td>0.0</td>\n",
       "      <td>0.0</td>\n",
       "      <td>0.0</td>\n",
       "      <td>0.0</td>\n",
       "      <td>1.0</td>\n",
       "    </tr>\n",
       "    <tr>\n",
       "      <th>999</th>\n",
       "      <td>Balvenie 1993 23 year old, 51.9%</td>\n",
       "      <td>87</td>\n",
       "      <td>15000</td>\n",
       "      <td>This was aged in a refill American oak hogshea...</td>\n",
       "      <td>0.0</td>\n",
       "      <td>0.0</td>\n",
       "      <td>0.0</td>\n",
       "      <td>0.0</td>\n",
       "      <td>1.0</td>\n",
       "    </tr>\n",
       "    <tr>\n",
       "      <th>1214</th>\n",
       "      <td>Balvenie 2004 13 year old, 58.2%</td>\n",
       "      <td>86</td>\n",
       "      <td>15000</td>\n",
       "      <td>This expression was aged in a European oak olo...</td>\n",
       "      <td>0.0</td>\n",
       "      <td>0.0</td>\n",
       "      <td>0.0</td>\n",
       "      <td>0.0</td>\n",
       "      <td>1.0</td>\n",
       "    </tr>\n",
       "  </tbody>\n",
       "</table>\n",
       "</div>"
      ],
      "text/plain": [
       "                                  name  review.point  price  \\\n",
       "19    Balvenie 1973 43 year old, 46.6%            95  15000   \n",
       "95    Balvenie 1961 55 year old, 41.7%            93  15000   \n",
       "410   Balvenie 1981 35 year old, 43.8%            90  15000   \n",
       "999   Balvenie 1993 23 year old, 51.9%            87  15000   \n",
       "1214  Balvenie 2004 13 year old, 58.2%            86  15000   \n",
       "\n",
       "                                            description  \\\n",
       "19    This expression was matured in a European oak ...   \n",
       "95    Aged in a European oak oloroso sherry hogshead...   \n",
       "410   A refill American oak hogshead matured this wh...   \n",
       "999   This was aged in a refill American oak hogshea...   \n",
       "1214  This expression was aged in a European oak olo...   \n",
       "\n",
       "      Blended Malt Scotch Whisky  Blended Scotch Whisky  Grain Scotch Whisky  \\\n",
       "19                           0.0                    0.0                  0.0   \n",
       "95                           0.0                    0.0                  0.0   \n",
       "410                          0.0                    0.0                  0.0   \n",
       "999                          0.0                    0.0                  0.0   \n",
       "1214                         0.0                    0.0                  0.0   \n",
       "\n",
       "      Single Grain Whisky  Single Malt Scotch  \n",
       "19                    0.0                 1.0  \n",
       "95                    0.0                 1.0  \n",
       "410                   0.0                 1.0  \n",
       "999                   0.0                 1.0  \n",
       "1214                  0.0                 1.0  "
      ]
     },
     "execution_count": 18,
     "metadata": {},
     "output_type": "execute_result"
    }
   ],
   "source": [
    "data['price'].iloc[indices] = '15000'\n",
    "data.iloc[indices]"
   ]
  },
  {
   "cell_type": "markdown",
   "id": "46edf28b",
   "metadata": {},
   "source": [
    "### Continue cleaning price\n",
    "- **Remove commas**: As price is being represented as a string, some of the prices look like they have commas to make larger values more readable. We eventually want to convert this value into a numeric value, so we will need to remove these commas. \n",
    "- **Split string**: Some values have strings with more than one \"word\". However, the first word seems to always be the price. If we split the string using a space as our separator, and only keep the first index, we should be able to get just the numeric value back. \n",
    "- **Remove '/words'**: This is a special case. Some values have their price noted as price per some amount, denoted by the forward slash (ex. 44/liter). We should be able to use regular expressions to split the string into everything before and after the forward slash and just keep the numeric value. \n",
    "- **Remove currency symbols**: Currency symbols will cause problems for us if we try to convert this to a float. Remove these too."
   ]
  },
  {
   "cell_type": "code",
   "execution_count": 19,
   "id": "d0dc2262",
   "metadata": {},
   "outputs": [],
   "source": [
    "# Cleaning price\n",
    "# function to strip the price string of alphabetical chracters\n",
    "import re\n",
    "\n",
    "def clean_text_price(text):\n",
    "    '''Remove commas, forward slashes, currency symbols, and split the string to clean the data.'''\n",
    "    text = text.split(' ')[0]\n",
    "    text = re.sub(r'\\/\\w+', '', text)\n",
    "    text = re.sub('[%s]' % re.escape(','), '', text)\n",
    "    text = re.sub('[%s]' % re.escape('$'), '', text)\n",
    "    return text\n",
    "\n",
    "# create lambda function to apply to our dataframe\n",
    "clean_price_string = lambda x: clean_text_price(x)"
   ]
  },
  {
   "cell_type": "code",
   "execution_count": 20,
   "id": "9156d3c9",
   "metadata": {},
   "outputs": [
    {
     "data": {
      "text/html": [
       "<div>\n",
       "<style scoped>\n",
       "    .dataframe tbody tr th:only-of-type {\n",
       "        vertical-align: middle;\n",
       "    }\n",
       "\n",
       "    .dataframe tbody tr th {\n",
       "        vertical-align: top;\n",
       "    }\n",
       "\n",
       "    .dataframe thead th {\n",
       "        text-align: right;\n",
       "    }\n",
       "</style>\n",
       "<table border=\"1\" class=\"dataframe\">\n",
       "  <thead>\n",
       "    <tr style=\"text-align: right;\">\n",
       "      <th></th>\n",
       "      <th>name</th>\n",
       "      <th>review.point</th>\n",
       "      <th>description</th>\n",
       "      <th>Blended Malt Scotch Whisky</th>\n",
       "      <th>Blended Scotch Whisky</th>\n",
       "      <th>Grain Scotch Whisky</th>\n",
       "      <th>Single Grain Whisky</th>\n",
       "      <th>Single Malt Scotch</th>\n",
       "      <th>price_string</th>\n",
       "    </tr>\n",
       "  </thead>\n",
       "  <tbody>\n",
       "    <tr>\n",
       "      <th>0</th>\n",
       "      <td>Johnnie Walker Blue Label, 40%</td>\n",
       "      <td>97</td>\n",
       "      <td>Magnificently powerful and intense. Caramels, ...</td>\n",
       "      <td>0.0</td>\n",
       "      <td>1.0</td>\n",
       "      <td>0.0</td>\n",
       "      <td>0.0</td>\n",
       "      <td>0.0</td>\n",
       "      <td>225.0</td>\n",
       "    </tr>\n",
       "    <tr>\n",
       "      <th>1</th>\n",
       "      <td>Black Bowmore, 1964 vintage, 42 year old, 40.5%</td>\n",
       "      <td>97</td>\n",
       "      <td>What impresses me most is how this whisky evol...</td>\n",
       "      <td>0.0</td>\n",
       "      <td>0.0</td>\n",
       "      <td>0.0</td>\n",
       "      <td>0.0</td>\n",
       "      <td>1.0</td>\n",
       "      <td>4500.0</td>\n",
       "    </tr>\n",
       "    <tr>\n",
       "      <th>2</th>\n",
       "      <td>Bowmore 46 year old (distilled 1964), 42.9%</td>\n",
       "      <td>97</td>\n",
       "      <td>There have been some legendary Bowmores from t...</td>\n",
       "      <td>0.0</td>\n",
       "      <td>0.0</td>\n",
       "      <td>0.0</td>\n",
       "      <td>0.0</td>\n",
       "      <td>1.0</td>\n",
       "      <td>13500.0</td>\n",
       "    </tr>\n",
       "    <tr>\n",
       "      <th>3</th>\n",
       "      <td>Compass Box The General, 53.4%</td>\n",
       "      <td>96</td>\n",
       "      <td>With a name inspired by a 1926 Buster Keaton m...</td>\n",
       "      <td>1.0</td>\n",
       "      <td>0.0</td>\n",
       "      <td>0.0</td>\n",
       "      <td>0.0</td>\n",
       "      <td>0.0</td>\n",
       "      <td>325.0</td>\n",
       "    </tr>\n",
       "    <tr>\n",
       "      <th>4</th>\n",
       "      <td>Chivas Regal Ultis, 40%</td>\n",
       "      <td>96</td>\n",
       "      <td>Captivating, enticing, and wonderfully charmin...</td>\n",
       "      <td>1.0</td>\n",
       "      <td>0.0</td>\n",
       "      <td>0.0</td>\n",
       "      <td>0.0</td>\n",
       "      <td>0.0</td>\n",
       "      <td>160.0</td>\n",
       "    </tr>\n",
       "  </tbody>\n",
       "</table>\n",
       "</div>"
      ],
      "text/plain": [
       "                                              name  review.point  \\\n",
       "0                   Johnnie Walker Blue Label, 40%            97   \n",
       "1  Black Bowmore, 1964 vintage, 42 year old, 40.5%            97   \n",
       "2      Bowmore 46 year old (distilled 1964), 42.9%            97   \n",
       "3                   Compass Box The General, 53.4%            96   \n",
       "4                          Chivas Regal Ultis, 40%            96   \n",
       "\n",
       "                                         description  \\\n",
       "0  Magnificently powerful and intense. Caramels, ...   \n",
       "1  What impresses me most is how this whisky evol...   \n",
       "2  There have been some legendary Bowmores from t...   \n",
       "3  With a name inspired by a 1926 Buster Keaton m...   \n",
       "4  Captivating, enticing, and wonderfully charmin...   \n",
       "\n",
       "   Blended Malt Scotch Whisky  Blended Scotch Whisky  Grain Scotch Whisky  \\\n",
       "0                         0.0                    1.0                  0.0   \n",
       "1                         0.0                    0.0                  0.0   \n",
       "2                         0.0                    0.0                  0.0   \n",
       "3                         1.0                    0.0                  0.0   \n",
       "4                         1.0                    0.0                  0.0   \n",
       "\n",
       "   Single Grain Whisky  Single Malt Scotch  price_string  \n",
       "0                  0.0                 0.0         225.0  \n",
       "1                  0.0                 1.0        4500.0  \n",
       "2                  0.0                 1.0       13500.0  \n",
       "3                  0.0                 0.0         325.0  \n",
       "4                  0.0                 0.0         160.0  "
      ]
     },
     "execution_count": 20,
     "metadata": {},
     "output_type": "execute_result"
    }
   ],
   "source": [
    "# Apply lambda function to clean price and add column to data \n",
    "price_clean = data['price'].apply(clean_price_string)\n",
    "data['price_string'] = price_clean\n",
    "data['price_string'] = pd.to_numeric(data['price_string'], downcast='float')\n",
    "\n",
    "data.drop('price', axis=1, inplace=True)\n",
    "data.head()"
   ]
  },
  {
   "cell_type": "markdown",
   "id": "d079786a",
   "metadata": {},
   "source": [
    "***"
   ]
  },
  {
   "cell_type": "markdown",
   "id": "9518f404",
   "metadata": {},
   "source": [
    "## Cleaning `description`\n",
    "The next step is to clean or preprocess the reviews before it gets vectorized. First, let's investigate what some reviews look like. "
   ]
  },
  {
   "cell_type": "code",
   "execution_count": 21,
   "id": "96191f20",
   "metadata": {},
   "outputs": [
    {
     "data": {
      "text/plain": [
       "[\"Magnificently powerful and intense. Caramels, dried peats, elegant cigar smoke, seeds scraped from vanilla beans, brand new pencils, peppercorn, coriander seeds, and star anise make for a deeply satisfying nosing experience. Silky caramels, bountiful fruits of ripe peach, stewed apple, orange pith, and pervasive smoke with elements of burnt tobacco. An abiding finish of smoke, dry spices, and banoffee pie sweetness. Close to perfection. Editor's Choice\",\n",
       " \"What impresses me most is how this whisky evolves; it's incredibly complex. On the nose and palate, this is a thick, viscous, whisky with notes of sticky toffee, earthy oak, fig cake, roasted nuts, fallen fruit, pancake batter, black cherry, ripe peach, dark chocolate-covered espresso bean, polished leather, tobacco, a hint of wild game, and lingering, leafy damp kiln smoke. Flavors continue on the palate long after swallowing. This is what we all hope for (and dream of) in an older whisky!\",\n",
       " \"There have been some legendary Bowmores from the mid-60s and this is every bit their equal. All of them share a remarkable aroma of tropical fruit, which here moves into hallucinatory intensity: guava, mango, peach, pineapple, grapefruit. There’s a very light touch of peat smoke, more a memory of Islay than the reality. Concentrated; even at low strength the palate is silky, heady, and haunting, and lasts forever in the dry glass. A legend is born. (Eight bottles only for the U.S.) Editor's Choice.\",\n",
       " \"With a name inspired by a 1926 Buster Keaton movie, only 1,698 bottles produced, and the news that one of the two batches is more than 30 years old, the clues were there that this blend was never going to be cheap. It isn't, but it's superb, rich in flavor that screams dusty old oak office, fresh polish, and Sunday church, with spices, oak dried fruits, squiggly raisins, and a surprising melting fruit-and-nut dairy chocolate back story.\",\n",
       " \"Captivating, enticing, and wonderfully charming, this first blended malt from Chivas Regal contains selections of five Speyside malts: Strathisla, Longmorn, Tormore, Allt-a-Bhainne, and Braeval. Red apple, cherry, raspberry fudge, peach and mango fruit salad, dusting of cinnamon, and dry heather sprigs. In essence, it’s rich and satisfying, with dark vanilla, apricot, Bourneville-covered Brazil nuts, and tangerine, smoothed over by caramel and wood spices, maltiness, and gingersnap biscuits. Quite heavenly. Editor's Choice\",\n",
       " 'Powerful, muscular, well-textured, and invigorating. Even within the realm of Ardbeg, this one stands out. The more aggressive notes of coal tar, damp kiln, anise, and smoked seaweed are supported by an array of fruit (black raspberry, black cherry, plum), dark chocolate, espresso, molasses, bacon fat, kalamata olive, and warming cinnamon on the finish. Quite stunning!',\n",
       " 'Deep gold color. Surprisingly lively on the nose for its age. A complex array of fruit (tangerine, sultana, pink grapefruit, papaya, and the general overall citrus DNA that you’ll find in old Bowmores), with balancing notes of honey and vanilla. A hint of damp smoke and coconut. Just like with Black Bowmore, this is a texturally soothing whisky on the palate, which continues to evolve in waves -- first the sweet honey, coating vanilla, and lively fruit, then turning quite visceral, with juicy oak, damp earth, deep peat smoke, and charcoal, followed by another wave of fruit (this time, dried fruit), finishing off with subtle charred oak and roasted nuts. This whisky is better than White Bowmore, and it falls just short of Black Bowmore (which I rated 97), because it’s just a bit softer and less vibrant on the palate.',\n",
       " \"Definitely showing its age, but not in a bad way — the distillery character is still there. Solid foundation of thick, chewy toffee, old pot still rum, and fig cake. Fruity too, with notes of golden raisin and nectarine. Soft, seductive peat smoke, juicy oak, cinnamon, and brine round out the palate. Excellent balance! One of the finest Bowmore whiskies I’ve ever tasted (and, at this price, will probably never taste again.) (Editor's Pick) \",\n",
       " 'The Dalmore is one of a handful of whiskies that seem to be able to age in the cask for many decades and still improve. This one is incredibly viscous on the nose and palate (and very heavy on the tongue), with chewy toffee and old pot still rum. The classic Dalmore marmalade note shines throughout, along with vanilla cream, an array of dried spices (especially cinnamon and evergreen), juicy oak, forest bedding, rancio, old armagnac, polished leather, tobacco, maple syrup, dark chocolate, almond macaroon, and subtle espresso. Long, mouth-coating finish. The flavors evolve like waves lapping on the palate -- especially the interplay with the oak. I can’t drink this whisky slowly enough. A rare experience for the lucky few who can afford it. (Price is per 100ml).',\n",
       " 'A rich amber color and elegantly oxidized notes greet you. There are luscious old fruits—pineapple, dried peach, apricot—and puffs of coal-like smokiness. In time, sweet spices (cumin especially) emerge. Superbly balanced. The palate, while fragile, still has real sweetness alongside a lick of treacle. It can take a drop of water, allowing richer, darker fruits to emerge. The finish is powerful, long, and resonant. Superb, not over-wooded, and a fair price for such a rarity.\\xa0£1,995',\n",
       " \"It’s great that Glenlivet releases whiskies under the 'Cellar Collection' label. It really shows the true potential of Glenlivet. This bottling is classic ultra-matured Glenlivet, and rivals the 1959 vintage Cellar Collection as the best one ever. An incredibly complex whisky, with notes of vanilla, ripe barley, coconut, and caramel. All this is accentuated by glazed orange, hazelnut, and a potpourri of dried spices. Not the least bit tired for such an aged whisky. (Only 800 bottles for the U.S.)\",\n",
       " 'Classic sherry cask-aged Macallan. Antique amber with hints of ruby. Thickly textured, complex, and quite deep, with notes of toffee, ripe pit fruit, raisin, apple pie, dried spice (cinnamon, clove, ginger, and mint), and a wisp of smoke. An exceptional, multi-faceted Macallan! \\r\\n',\n",
       " 'A remarkable beauty from the Angus town of Montrose. The elegant nose shows a dram at peace with itself; golden syrup, hay bales, ground hazelnut, liquid honey, French baguette, High Mountain oolong, and rubbed spice blends. Refreshing palate of honey, toffee, citrus, honeycomb wax, and a profusion of sweet vanilla. Rich, sweet oak and deep pepper notes to finish. Truly a sublime and venerable grain. (106 bottles) £2,400',\n",
       " \"A marriage of three different single malts, aged in American and French oak. This whisky shows the advantage of marrying whiskies from more than one distillery (when properly done). Vibrant, with a complex array of fruit (orchard fruit, sultana), sweetness (light toffee, marzipan, honeyed malt), spice (creamy vanilla, mocha, warming pepper), smoke (tar, smoked olive, coal), and lesser notes of toasted almond and beach pebbles. More smoke and tar on the palate than the nose, yet always in balance. Well played! (Editor's Choice)\",\n",
       " 'As you’d expect, solid peat is the first thing out of the glass, but this isn’t just a peat beast. Underneath are honey, dried fruit, and malt. The palate is all about balance, with honeyed malt, raisin, and oak spice all complementing smoky peat. A lush mouthfeel makes you forget it’s cask strength. A pure love note in a glass from Compass Box to Park Avenue Liquor.\\xa0 (Park Avenue Liquor only)',\n",
       " 'Formulated to celebrate the 200th anniversary of Johnnie Walker. This is a fabulous whisky for anyone who can spring for the bottle. It is deep, dark, and quite powerful with a hefty malt foundation and sweeter notes of toffee and vanilla combined with resinous oak, complex fruit (both bright citrus notes and darker pit fruits), crisp mint, tobacco, polished leather, and heavy peat smoke. A tour de force of a blended scotch-as big as many single malts reviewed here. \\r\\n',\n",
       " 'An essay in balance on both the aroma and palate. Silky layers of delicate sweetness (honeyed vanilla, caramel, light toffee) permeate through clean, delicate fruit (citrus, peach, currant), and subtle, complex dried spice. Clean finish, with a hint of dark chocolate. A very versatile, very drinkable blend which suits most moods and occasions. Indeed, a benchmark blended scotch. \\r\\n',\n",
       " 'Cask #3145 is the lighter in color, and the sweet notes that balance the smoke and seaweed are not as deeply caramelized as Cask #3542. I’m tasting hints of shortbread and caramel, which show through the peat smoke, tobacco, toasted nuts, firm spice notes (cinnamon, clove, and mint), and lingering brine. Very complex. \\r\\nPrice listed includes the entire Double Barrel 1974 Vintage set.',\n",
       " 'With the Ardbeg 17 year old off the market, it’s nice to see a new Ardbeg in the line-up. Uigeadail costs about the same as the Ardbeg 17 did but, with Uigeadail, you’re getting a much more interesting whisky. Uigeadail consists of a marriage of younger whisky (from 1990 and 1993) with much older whisky matured in sherry casks. The marriage works exceptionally well, with the younger whiskies providing the classic Ardbeg intensity many of us have come to expect, while the older whiskies contribute depth, maturity, and complexity. And bottling the whisky at cask-strength without chill-filtration ensures that none of the flavors are stripped out. This is an incredibly complex Islay whisky, with its bonfire smoke, brine, and peppered olive notes balanced by a taming sweetness of vanilla, marshmallow, and toffee. Interwoven notes of candied fruit and sugared almonds round out the palate. Incredibly long finish. \\r\\n',\n",
       " 'This expression was matured in a European oak oloroso sherry butt. Overtly sherried, with figs, sultanas, cinnamon, and old warm leather on the nose. Finally, fragrant, with milk chocolate-coated Turkish delight. The Turkish delight carries over to the palate, before the chocolate darkens to plain, with raisins, smoked ham, and cloves in the long finish. Remarkably, almost no tannic oak. Textbook stuff.']"
      ]
     },
     "execution_count": 21,
     "metadata": {},
     "output_type": "execute_result"
    }
   ],
   "source": [
    "# Let's look at the first 10 reviews. \n",
    "review_list = []\n",
    "\n",
    "for review in data['description'].head(20):\n",
    "    review_list.append(review)\n",
    "    \n",
    "# Inspect the first 10 reviews. \n",
    "review_list"
   ]
  },
  {
   "cell_type": "markdown",
   "id": "1eca42f8",
   "metadata": {},
   "source": [
    "## Initial thoughts for cleaning text\n",
    "- There are string literals (eg. \\n, \\r, \\t) that can be removed. These shouldn't have any meaning to the review, and we should remove them,\n",
    "- '\\xa0' shows up in the reviews occasionally. This is apparently a non-breaking space. We will replace this with a space. \n",
    "- The typical text cleaning process will also be completed - remove punctuation, and lowercase all the text\n",
    "\n",
    "Once the cleaning is complete, we can drop the `desription` column"
   ]
  },
  {
   "cell_type": "code",
   "execution_count": 22,
   "id": "f80e6965",
   "metadata": {},
   "outputs": [],
   "source": [
    "# Clean text first\n",
    "def clean_text_round1(text):\n",
    "    '''Make text lowercase, remove text in square brackets, remove punctuation, and remove words containing numbers.'''\n",
    "    text = text.lower()\n",
    "    text = re.sub('\\[.*?\\]', '', text) # remove square brackets\n",
    "    text = re.sub('[%s]' % re.escape(string.punctuation), '', text)\n",
    "    text = re.sub('[‘’“”…]', '', text) # more punctuation removal\n",
    "    return text\n",
    "\n",
    "round1 = lambda x: clean_text_round1(x)\n",
    "\n",
    "def clean_text_round2(text):\n",
    "    '''Get rid of string literals that was missed the first time around.'''\n",
    "    text = re.sub('\\t','', text)\n",
    "    text = re.sub('\\n', '', text)\n",
    "    text = re.sub('\\r', '', text)\n",
    "    text = re.sub('\\xa0',' ', text)\n",
    "    return text\n",
    "\n",
    "round2 = lambda x: clean_text_round2(x)"
   ]
  },
  {
   "cell_type": "code",
   "execution_count": 23,
   "id": "471dd887",
   "metadata": {},
   "outputs": [],
   "source": [
    "# Apply the cleaning functions to the reviews\n",
    "data['cleaned_reviews'] = data['description'].apply(round1)\n",
    "data['cleaned_reviews'] = data['cleaned_reviews'].apply(round2)"
   ]
  },
  {
   "cell_type": "markdown",
   "id": "09d92875",
   "metadata": {},
   "source": [
    "## Inspect cleaned reviews"
   ]
  },
  {
   "cell_type": "code",
   "execution_count": 24,
   "id": "8c71e97e",
   "metadata": {},
   "outputs": [
    {
     "data": {
      "text/plain": [
       "['magnificently powerful and intense caramels dried peats elegant cigar smoke seeds scraped from vanilla beans brand new pencils peppercorn coriander seeds and star anise make for a deeply satisfying nosing experience silky caramels bountiful fruits of ripe peach stewed apple orange pith and pervasive smoke with elements of burnt tobacco an abiding finish of smoke dry spices and banoffee pie sweetness close to perfection editors choice',\n",
       " 'what impresses me most is how this whisky evolves its incredibly complex on the nose and palate this is a thick viscous whisky with notes of sticky toffee earthy oak fig cake roasted nuts fallen fruit pancake batter black cherry ripe peach dark chocolatecovered espresso bean polished leather tobacco a hint of wild game and lingering leafy damp kiln smoke flavors continue on the palate long after swallowing this is what we all hope for and dream of in an older whisky',\n",
       " 'there have been some legendary bowmores from the mid60s and this is every bit their equal all of them share a remarkable aroma of tropical fruit which here moves into hallucinatory intensity guava mango peach pineapple grapefruit theres a very light touch of peat smoke more a memory of islay than the reality concentrated even at low strength the palate is silky heady and haunting and lasts forever in the dry glass a legend is born eight bottles only for the us editors choice',\n",
       " 'with a name inspired by a 1926 buster keaton movie only 1698 bottles produced and the news that one of the two batches is more than 30 years old the clues were there that this blend was never going to be cheap it isnt but its superb rich in flavor that screams dusty old oak office fresh polish and sunday church with spices oak dried fruits squiggly raisins and a surprising melting fruitandnut dairy chocolate back story',\n",
       " 'captivating enticing and wonderfully charming this first blended malt from chivas regal contains selections of five speyside malts strathisla longmorn tormore alltabhainne and braeval red apple cherry raspberry fudge peach and mango fruit salad dusting of cinnamon and dry heather sprigs in essence its rich and satisfying with dark vanilla apricot bournevillecovered brazil nuts and tangerine smoothed over by caramel and wood spices maltiness and gingersnap biscuits quite heavenly editors choice',\n",
       " 'powerful muscular welltextured and invigorating even within the realm of ardbeg this one stands out the more aggressive notes of coal tar damp kiln anise and smoked seaweed are supported by an array of fruit black raspberry black cherry plum dark chocolate espresso molasses bacon fat kalamata olive and warming cinnamon on the finish quite stunning',\n",
       " 'deep gold color surprisingly lively on the nose for its age a complex array of fruit tangerine sultana pink grapefruit papaya and the general overall citrus dna that youll find in old bowmores with balancing notes of honey and vanilla a hint of damp smoke and coconut just like with black bowmore this is a texturally soothing whisky on the palate which continues to evolve in waves  first the sweet honey coating vanilla and lively fruit then turning quite visceral with juicy oak damp earth deep peat smoke and charcoal followed by another wave of fruit this time dried fruit finishing off with subtle charred oak and roasted nuts this whisky is better than white bowmore and it falls just short of black bowmore which i rated 97 because its just a bit softer and less vibrant on the palate',\n",
       " 'definitely showing its age but not in a bad way — the distillery character is still there solid foundation of thick chewy toffee old pot still rum and fig cake fruity too with notes of golden raisin and nectarine soft seductive peat smoke juicy oak cinnamon and brine round out the palate excellent balance one of the finest bowmore whiskies ive ever tasted and at this price will probably never taste again editors pick ',\n",
       " 'the dalmore is one of a handful of whiskies that seem to be able to age in the cask for many decades and still improve this one is incredibly viscous on the nose and palate and very heavy on the tongue with chewy toffee and old pot still rum the classic dalmore marmalade note shines throughout along with vanilla cream an array of dried spices especially cinnamon and evergreen juicy oak forest bedding rancio old armagnac polished leather tobacco maple syrup dark chocolate almond macaroon and subtle espresso long mouthcoating finish the flavors evolve like waves lapping on the palate  especially the interplay with the oak i cant drink this whisky slowly enough a rare experience for the lucky few who can afford it price is per 100ml',\n",
       " 'a rich amber color and elegantly oxidized notes greet you there are luscious old fruits—pineapple dried peach apricot—and puffs of coallike smokiness in time sweet spices cumin especially emerge superbly balanced the palate while fragile still has real sweetness alongside a lick of treacle it can take a drop of water allowing richer darker fruits to emerge the finish is powerful long and resonant superb not overwooded and a fair price for such a rarity £1995',\n",
       " 'its great that glenlivet releases whiskies under the cellar collection label it really shows the true potential of glenlivet this bottling is classic ultramatured glenlivet and rivals the 1959 vintage cellar collection as the best one ever an incredibly complex whisky with notes of vanilla ripe barley coconut and caramel all this is accentuated by glazed orange hazelnut and a potpourri of dried spices not the least bit tired for such an aged whisky only 800 bottles for the us',\n",
       " 'classic sherry caskaged macallan antique amber with hints of ruby thickly textured complex and quite deep with notes of toffee ripe pit fruit raisin apple pie dried spice cinnamon clove ginger and mint and a wisp of smoke an exceptional multifaceted macallan ',\n",
       " 'a remarkable beauty from the angus town of montrose the elegant nose shows a dram at peace with itself golden syrup hay bales ground hazelnut liquid honey french baguette high mountain oolong and rubbed spice blends refreshing palate of honey toffee citrus honeycomb wax and a profusion of sweet vanilla rich sweet oak and deep pepper notes to finish truly a sublime and venerable grain 106 bottles £2400',\n",
       " 'a marriage of three different single malts aged in american and french oak this whisky shows the advantage of marrying whiskies from more than one distillery when properly done vibrant with a complex array of fruit orchard fruit sultana sweetness light toffee marzipan honeyed malt spice creamy vanilla mocha warming pepper smoke tar smoked olive coal and lesser notes of toasted almond and beach pebbles more smoke and tar on the palate than the nose yet always in balance well played editors choice',\n",
       " 'as youd expect solid peat is the first thing out of the glass but this isnt just a peat beast underneath are honey dried fruit and malt the palate is all about balance with honeyed malt raisin and oak spice all complementing smoky peat a lush mouthfeel makes you forget its cask strength a pure love note in a glass from compass box to park avenue liquor  park avenue liquor only',\n",
       " 'formulated to celebrate the 200th anniversary of johnnie walker this is a fabulous whisky for anyone who can spring for the bottle it is deep dark and quite powerful with a hefty malt foundation and sweeter notes of toffee and vanilla combined with resinous oak complex fruit both bright citrus notes and darker pit fruits crisp mint tobacco polished leather and heavy peat smoke a tour de force of a blended scotchas big as many single malts reviewed here ',\n",
       " 'an essay in balance on both the aroma and palate silky layers of delicate sweetness honeyed vanilla caramel light toffee permeate through clean delicate fruit citrus peach currant and subtle complex dried spice clean finish with a hint of dark chocolate a very versatile very drinkable blend which suits most moods and occasions indeed a benchmark blended scotch ',\n",
       " 'cask 3145 is the lighter in color and the sweet notes that balance the smoke and seaweed are not as deeply caramelized as cask 3542 im tasting hints of shortbread and caramel which show through the peat smoke tobacco toasted nuts firm spice notes cinnamon clove and mint and lingering brine very complex price listed includes the entire double barrel 1974 vintage set',\n",
       " 'with the ardbeg 17 year old off the market its nice to see a new ardbeg in the lineup uigeadail costs about the same as the ardbeg 17 did but with uigeadail youre getting a much more interesting whisky uigeadail consists of a marriage of younger whisky from 1990 and 1993 with much older whisky matured in sherry casks the marriage works exceptionally well with the younger whiskies providing the classic ardbeg intensity many of us have come to expect while the older whiskies contribute depth maturity and complexity and bottling the whisky at caskstrength without chillfiltration ensures that none of the flavors are stripped out this is an incredibly complex islay whisky with its bonfire smoke brine and peppered olive notes balanced by a taming sweetness of vanilla marshmallow and toffee interwoven notes of candied fruit and sugared almonds round out the palate incredibly long finish ',\n",
       " 'this expression was matured in a european oak oloroso sherry butt overtly sherried with figs sultanas cinnamon and old warm leather on the nose finally fragrant with milk chocolatecoated turkish delight the turkish delight carries over to the palate before the chocolate darkens to plain with raisins smoked ham and cloves in the long finish remarkably almost no tannic oak textbook stuff']"
      ]
     },
     "execution_count": 24,
     "metadata": {},
     "output_type": "execute_result"
    }
   ],
   "source": [
    "# Let's look at the first 20 reviews. \n",
    "clean_review_list = []\n",
    "\n",
    "for review in data['cleaned_reviews'].head(20):\n",
    "    clean_review_list.append(review)\n",
    "    \n",
    "# Inspect the first 10 reviews. \n",
    "clean_review_list"
   ]
  },
  {
   "cell_type": "markdown",
   "id": "3b455b4d",
   "metadata": {},
   "source": [
    "We're only looking at the first 20 reviews, but it looks promising so far. Once we vectorize our text, if we still see some nonsense words, we can come back and clean the data again. For now, we can drop the `description` column."
   ]
  },
  {
   "cell_type": "code",
   "execution_count": 25,
   "id": "f9645242",
   "metadata": {},
   "outputs": [
    {
     "data": {
      "text/html": [
       "<div>\n",
       "<style scoped>\n",
       "    .dataframe tbody tr th:only-of-type {\n",
       "        vertical-align: middle;\n",
       "    }\n",
       "\n",
       "    .dataframe tbody tr th {\n",
       "        vertical-align: top;\n",
       "    }\n",
       "\n",
       "    .dataframe thead th {\n",
       "        text-align: right;\n",
       "    }\n",
       "</style>\n",
       "<table border=\"1\" class=\"dataframe\">\n",
       "  <thead>\n",
       "    <tr style=\"text-align: right;\">\n",
       "      <th></th>\n",
       "      <th>name</th>\n",
       "      <th>review.point</th>\n",
       "      <th>Blended Malt Scotch Whisky</th>\n",
       "      <th>Blended Scotch Whisky</th>\n",
       "      <th>Grain Scotch Whisky</th>\n",
       "      <th>Single Grain Whisky</th>\n",
       "      <th>Single Malt Scotch</th>\n",
       "      <th>price_string</th>\n",
       "      <th>cleaned_reviews</th>\n",
       "    </tr>\n",
       "  </thead>\n",
       "  <tbody>\n",
       "    <tr>\n",
       "      <th>0</th>\n",
       "      <td>Johnnie Walker Blue Label, 40%</td>\n",
       "      <td>97</td>\n",
       "      <td>0.0</td>\n",
       "      <td>1.0</td>\n",
       "      <td>0.0</td>\n",
       "      <td>0.0</td>\n",
       "      <td>0.0</td>\n",
       "      <td>225.0</td>\n",
       "      <td>magnificently powerful and intense caramels dr...</td>\n",
       "    </tr>\n",
       "    <tr>\n",
       "      <th>1</th>\n",
       "      <td>Black Bowmore, 1964 vintage, 42 year old, 40.5%</td>\n",
       "      <td>97</td>\n",
       "      <td>0.0</td>\n",
       "      <td>0.0</td>\n",
       "      <td>0.0</td>\n",
       "      <td>0.0</td>\n",
       "      <td>1.0</td>\n",
       "      <td>4500.0</td>\n",
       "      <td>what impresses me most is how this whisky evol...</td>\n",
       "    </tr>\n",
       "    <tr>\n",
       "      <th>2</th>\n",
       "      <td>Bowmore 46 year old (distilled 1964), 42.9%</td>\n",
       "      <td>97</td>\n",
       "      <td>0.0</td>\n",
       "      <td>0.0</td>\n",
       "      <td>0.0</td>\n",
       "      <td>0.0</td>\n",
       "      <td>1.0</td>\n",
       "      <td>13500.0</td>\n",
       "      <td>there have been some legendary bowmores from t...</td>\n",
       "    </tr>\n",
       "    <tr>\n",
       "      <th>3</th>\n",
       "      <td>Compass Box The General, 53.4%</td>\n",
       "      <td>96</td>\n",
       "      <td>1.0</td>\n",
       "      <td>0.0</td>\n",
       "      <td>0.0</td>\n",
       "      <td>0.0</td>\n",
       "      <td>0.0</td>\n",
       "      <td>325.0</td>\n",
       "      <td>with a name inspired by a 1926 buster keaton m...</td>\n",
       "    </tr>\n",
       "    <tr>\n",
       "      <th>4</th>\n",
       "      <td>Chivas Regal Ultis, 40%</td>\n",
       "      <td>96</td>\n",
       "      <td>1.0</td>\n",
       "      <td>0.0</td>\n",
       "      <td>0.0</td>\n",
       "      <td>0.0</td>\n",
       "      <td>0.0</td>\n",
       "      <td>160.0</td>\n",
       "      <td>captivating enticing and wonderfully charming ...</td>\n",
       "    </tr>\n",
       "  </tbody>\n",
       "</table>\n",
       "</div>"
      ],
      "text/plain": [
       "                                              name  review.point  \\\n",
       "0                   Johnnie Walker Blue Label, 40%            97   \n",
       "1  Black Bowmore, 1964 vintage, 42 year old, 40.5%            97   \n",
       "2      Bowmore 46 year old (distilled 1964), 42.9%            97   \n",
       "3                   Compass Box The General, 53.4%            96   \n",
       "4                          Chivas Regal Ultis, 40%            96   \n",
       "\n",
       "   Blended Malt Scotch Whisky  Blended Scotch Whisky  Grain Scotch Whisky  \\\n",
       "0                         0.0                    1.0                  0.0   \n",
       "1                         0.0                    0.0                  0.0   \n",
       "2                         0.0                    0.0                  0.0   \n",
       "3                         1.0                    0.0                  0.0   \n",
       "4                         1.0                    0.0                  0.0   \n",
       "\n",
       "   Single Grain Whisky  Single Malt Scotch  price_string  \\\n",
       "0                  0.0                 0.0         225.0   \n",
       "1                  0.0                 1.0        4500.0   \n",
       "2                  0.0                 1.0       13500.0   \n",
       "3                  0.0                 0.0         325.0   \n",
       "4                  0.0                 0.0         160.0   \n",
       "\n",
       "                                     cleaned_reviews  \n",
       "0  magnificently powerful and intense caramels dr...  \n",
       "1  what impresses me most is how this whisky evol...  \n",
       "2  there have been some legendary bowmores from t...  \n",
       "3  with a name inspired by a 1926 buster keaton m...  \n",
       "4  captivating enticing and wonderfully charming ...  "
      ]
     },
     "execution_count": 25,
     "metadata": {},
     "output_type": "execute_result"
    }
   ],
   "source": [
    "# Drop description\n",
    "data.drop('description', axis=1, inplace=True)\n",
    "\n",
    "# Inspect the data\n",
    "data.head()"
   ]
  },
  {
   "cell_type": "markdown",
   "id": "5b04fdb3",
   "metadata": {},
   "source": [
    "***"
   ]
  },
  {
   "cell_type": "markdown",
   "id": "8534b395",
   "metadata": {},
   "source": [
    "## Extract age from name\n",
    "The age of the whiskey appears to be in `name` column. I am interested to see how many ages we can find, and see if we can use age as an additional feature. We can use regular expressions to find whiskys that contain \"year old\" in the name. "
   ]
  },
  {
   "cell_type": "code",
   "execution_count": 26,
   "id": "15c7ec9e",
   "metadata": {},
   "outputs": [],
   "source": [
    "# create function to extract age frim the name column\n",
    "def find_age(text):\n",
    "    m = re.search('\\d{1,2} year', text)\n",
    "    if m:\n",
    "        found = m.group(0)\n",
    "    else: \n",
    "        found = np.nan\n",
    "    \n",
    "    return found\n",
    "\n",
    "# create lambda function to apply to entire dataset\n",
    "whiskey_age = lambda x: find_age(x)\n",
    "ages = pd.DataFrame(data['name'].apply(whiskey_age))"
   ]
  },
  {
   "cell_type": "code",
   "execution_count": 27,
   "id": "24e4d8c0",
   "metadata": {},
   "outputs": [
    {
     "data": {
      "text/plain": [
       "1032"
      ]
     },
     "execution_count": 27,
     "metadata": {},
     "output_type": "execute_result"
    }
   ],
   "source": [
    "# How many rows am I missing ages for?\n",
    "ages['name'].isna().sum()"
   ]
  },
  {
   "cell_type": "markdown",
   "id": "14c3f5ad",
   "metadata": {},
   "source": [
    "It appears that I have over 1,000 of 2,245 rows that are missing information regarding the age of the whisky. Occasionally the year that the whisky began the maturation process is in the name, but we do not have any information regarding when the review was written. This means we cannot simply subtract the year in the name with the current year to get the age of the whisky. Given enough time, it is not impossible to Google the age for whiskys we are missing that information for. However, as of now, it is impractical. We will not pursue using age as a feature for the moment. \n",
    "\n",
    "We will keep the name column as is so that we can refer to the name of the whisky during our analysis.\n",
    "\n",
    "***"
   ]
  },
  {
   "cell_type": "markdown",
   "id": "3ae0c54a",
   "metadata": {},
   "source": [
    "# Conclusion\n",
    "We have checked the data for missing and duplicated data and dealt with them accordingly. We one-hot encoded the `category` column. We have also cleaned the `price` column, and converted it into a numeric data type (float). Then, we preprocessed our reviews. We attempted to extract the age of the whiskies from the `name`, but found that we had too many missing values. \n",
    "\n",
    "We will now save the DataFrame we were working with as a pickle file to use in future notebooks. \n",
    "\n",
    "In the next notebook, **2. EDA**, we will explore the relationship between our input features, and our target variable, `review.point`."
   ]
  },
  {
   "cell_type": "code",
   "execution_count": 28,
   "id": "13249efa",
   "metadata": {},
   "outputs": [
    {
     "data": {
      "text/plain": [
       "['data/cleaned_data.pkl']"
      ]
     },
     "execution_count": 28,
     "metadata": {},
     "output_type": "execute_result"
    }
   ],
   "source": [
    "# Save data as pickle file\n",
    "joblib.dump(data, 'data/cleaned_data.pkl')"
   ]
  }
 ],
 "metadata": {
  "kernelspec": {
   "display_name": "capstone",
   "language": "python",
   "name": "capstone"
  },
  "language_info": {
   "codemirror_mode": {
    "name": "ipython",
    "version": 3
   },
   "file_extension": ".py",
   "mimetype": "text/x-python",
   "name": "python",
   "nbconvert_exporter": "python",
   "pygments_lexer": "ipython3",
   "version": "3.7.6"
  },
  "varInspector": {
   "cols": {
    "lenName": 16,
    "lenType": 16,
    "lenVar": 40
   },
   "kernels_config": {
    "python": {
     "delete_cmd_postfix": "",
     "delete_cmd_prefix": "del ",
     "library": "var_list.py",
     "varRefreshCmd": "print(var_dic_list())"
    },
    "r": {
     "delete_cmd_postfix": ") ",
     "delete_cmd_prefix": "rm(",
     "library": "var_list.r",
     "varRefreshCmd": "cat(var_dic_list()) "
    }
   },
   "types_to_exclude": [
    "module",
    "function",
    "builtin_function_or_method",
    "instance",
    "_Feature"
   ],
   "window_display": false
  }
 },
 "nbformat": 4,
 "nbformat_minor": 5
}
