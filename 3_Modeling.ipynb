{
 "cells": [
  {
   "cell_type": "markdown",
   "id": "9cc5e77d",
   "metadata": {},
   "source": [
    "# 3. Modeling\n",
    "**Andrew Dang**  \n",
    "\n",
    "**BrainStation, Data Science**  \n",
    "\n",
    "**Previous Notebook: 2. EDA and Feature Engineering**\n",
    "\n",
    "**Next Notebook: 4. Findings**\n",
    "\n",
    "In the previous notebook, we did some initial analysis to explore the relationship between our input and target variables. \n",
    "In this notebook, we will be modeling. \n",
    "\n",
    "We are trying to predict a rating between 0 and 100, so we want to use a regression model. The evaluation metric used to determine which model performs best is the mean absolute error, which is the absolute difference the predicted rating and the actual rating averaged across the entire dataset. \n",
    "\n",
    "In this notebook, I want to test the following models. \n",
    "\n",
    "1. Decision Tree Regressor\n",
    "2. KNN Regressor\n",
    "3. Ridge Regression\n",
    "4. Lasso Regression\n",
    "5. XGBoost Regression\n",
    "5. Fully connected neural networks. \n",
    "\n",
    "As we are dealing with text data, we need to represent the text data in numeric form. There are different options for this. We will explore the following options. \n",
    "\n",
    "1. Bag of Words (CountVectorizer)\n",
    "2. TF-IDF \n",
    "3. word2Vec embeddings\n",
    "4. GloVe word embeddings\n",
    "\n",
    "Another thing to consider is whether to use stemming or lemmatization. Stemming often leads to tokens with odd or incorrect spellings that are more difficult to interpret. Therefore, we want to focus our efforts on using lemmatization. \n",
    "\n",
    "We are interested in seeing what words increase/decrease the rating of a whisky. Some words are positive or negative by definition, and don't reveal much information about the whisky. Therefore, to try and get a better understanding of whisky specific language, we want to include these positive and negative words in our list of stop words (words that are ignored and do not get tokenized). We also want to do the same thing with the name of the distillers, as their appearance in a review will not tell us much about the whisky. We will also add the names of the individual distilleries into the list of stop words. This was previosuly done in another notebook, and we will simply load them here. \n",
    "\n",
    "Now let's load in our packages. \n"
   ]
  },
  {
   "cell_type": "code",
   "execution_count": 1,
   "id": "131ae55d",
   "metadata": {},
   "outputs": [],
   "source": [
    "# Basic data science packages\n",
    "import pandas as pd \n",
    "import numpy as np\n",
    "import matplotlib.pyplot as plt\n",
    "\n",
    "# Text data packages\n",
    "import nltk\n",
    "import re\n",
    "import string\n",
    "from nltk.corpus import stopwords \n",
    "from sklearn.feature_extraction.text import CountVectorizer, TfidfVectorizer\n",
    "\n",
    "# Other required packages\n",
    "from sklearn.model_selection import train_test_split, cross_val_score, GridSearchCV\n",
    "\n",
    "# Data preprocessing packages\n",
    "from sklearn.preprocessing import StandardScaler, MinMaxScaler, FunctionTransformer\n",
    "from sklearn.compose import ColumnTransformer\n",
    "\n",
    "# modeling and metrics\n",
    "from sklearn.metrics import mean_absolute_error\n",
    "from sklearn.metrics import make_scorer\n",
    "\n",
    "from sklearn.dummy import DummyRegressor\n",
    "from sklearn.tree import DecisionTreeRegressor\n",
    "from sklearn.neighbors import KNeighborsRegressor\n",
    "from sklearn.linear_model import Ridge\n",
    "from sklearn.linear_model import Lasso\n",
    "from xgboost import XGBRegressor\n",
    "\n",
    "# Additional NLP packages\n",
    "from sklearn.feature_extraction import text\n",
    "from nltk.stem import WordNetLemmatizer\n",
    "\n",
    "import pickle\n",
    "import joblib\n",
    "\n",
    "from sklearn.pipeline import Pipeline\n",
    "from xgboost import plot_importance\n",
    "\n",
    "# Neural network packages\n",
    "import tensorflow as tf\n",
    "from tensorflow import keras\n",
    "from tensorflow.keras import layers\n",
    "import gensim\n",
    "from gensim.utils import simple_preprocess\n",
    "from tensorflow.keras.callbacks import EarlyStopping"
   ]
  },
  {
   "cell_type": "markdown",
   "id": "8e2d750a",
   "metadata": {},
   "source": [
    "***"
   ]
  },
  {
   "cell_type": "markdown",
   "id": "67bf89ea",
   "metadata": {},
   "source": [
    "## Defining functions and other utilities\n",
    "In the next few code blocks, we are doing the following:\n",
    "\n",
    "- Loading in our custom stop words that consists of positive and negative adjectives and whisky distiller names in addition to the default list of stop words.\n",
    "- Creating our lemmatizer for our text vectorizers. \n",
    "- Define a custom error and scoring function. Our scores are between 0 and 100, but there is nothing stopping our models from predicting ratings beyond these lower and upper boundaries. Our custom error function will clip all predictions below 0 to equal 0, and all predictions above 100 to 100. The custom scoring function will be passed to our models so that the predictions can be clipped during the cross-validation process. "
   ]
  },
  {
   "cell_type": "markdown",
   "id": "b14ecc36",
   "metadata": {},
   "source": [
    "**Loading custom stop words**"
   ]
  },
  {
   "cell_type": "code",
   "execution_count": 2,
   "id": "2354ff50",
   "metadata": {},
   "outputs": [],
   "source": [
    "# open pickled custom stopwords\n",
    "my_stop_words = joblib.load('data/my_stop_words.pkl')\n"
   ]
  },
  {
   "cell_type": "markdown",
   "id": "db16d569",
   "metadata": {},
   "source": [
    "**Creating lemmatizer**"
   ]
  },
  {
   "cell_type": "code",
   "execution_count": 3,
   "id": "1fe51aa1",
   "metadata": {},
   "outputs": [
    {
     "name": "stderr",
     "output_type": "stream",
     "text": [
      "[nltk_data] Downloading package wordnet to\n",
      "[nltk_data]     C:\\Users\\andre\\AppData\\Roaming\\nltk_data...\n",
      "[nltk_data]   Package wordnet is already up-to-date!\n"
     ]
    }
   ],
   "source": [
    "# Creating lemmatizer\n",
    "# Download and instantiate the lemmatizer\n",
    "nltk.download('wordnet')\n",
    "lemmatizer = WordNetLemmatizer()\n",
    "\n",
    "def my_lemmatizer(sentence):\n",
    "    '''\n",
    "    Takes in a string and removes punctuation, lower cases the text, and lemmatizes the text.\n",
    "    Returns a list of lemmatized words. \n",
    "    \n",
    "    Inputs\n",
    "    ------\n",
    "    sentence: a string\n",
    "    \n",
    "    Returns\n",
    "    -------\n",
    "    listoflemmad_words: list of lemmatized words. \n",
    "    '''\n",
    "    # remove punctuation and set to lower case\n",
    "    for punctuation_mark in string.punctuation:\n",
    "        sentence = sentence.replace(punctuation_mark,'').lower()\n",
    "\n",
    "    # split sentence into words\n",
    "    listofwords = sentence.split(' ')\n",
    "    listoflemmad_words = []\n",
    "    \n",
    "    # remove stopwords and any tokens that are just empty strings\n",
    "    for word in listofwords:\n",
    "        if (not word in my_stop_words and (word!='')):\n",
    "            # Stem words\n",
    "            lemmad_word = lemmatizer.lemmatize(word, pos='v')\n",
    "            listoflemmad_words.append(lemmad_word)\n",
    "\n",
    "    return listoflemmad_words"
   ]
  },
  {
   "cell_type": "markdown",
   "id": "b38dfcaa",
   "metadata": {},
   "source": [
    "**Creating custom error and scorer.**"
   ]
  },
  {
   "cell_type": "code",
   "execution_count": 4,
   "id": "0b8dbec3",
   "metadata": {},
   "outputs": [],
   "source": [
    "# build a custom scorer\n",
    "def clipped_mae(y_true, y_pred):\n",
    "    '''\n",
    "    A function that clips predictions above 100 to equal 100, and clip predictions under 0 to equal 0. \n",
    "    \n",
    "    Inputs:\n",
    "    -------\n",
    "    y_true: Actual label\n",
    "    y_pred: Predicted label\n",
    "    \n",
    "    Returns:\n",
    "    -------\n",
    "    clipped_mae: The mean absolute error where predictions are clipped to remain within the boundaries of 0-100.\n",
    "    \n",
    "    '''\n",
    "    clip1 = np.where(y_pred < 0, 0, y_pred)\n",
    "    clip2 = np.where(clip1 > 100, 100, clip1)\n",
    "    clipped_mae = mean_absolute_error(y_true, clip2)\n",
    "    return clipped_mae\n",
    "\n",
    "scoring = make_scorer(clipped_mae, greater_is_better=False)"
   ]
  },
  {
   "cell_type": "markdown",
   "id": "684c7571",
   "metadata": {},
   "source": [
    "***"
   ]
  },
  {
   "cell_type": "markdown",
   "id": "f3843643",
   "metadata": {},
   "source": [
    "## Loading fitted models\n",
    "The following function will load models that have already been fitted on the training data. This will prevent the need to refit the models every time this notebook is opened. \n",
    "\n",
    "**If you wish to see the entire fitting process, uncomment the third code block and run it.**  \n",
    "**Having the `models_loaded_flag=False` will cause each model to be re-fitted. This will take ~20-30 minutes to run.**"
   ]
  },
  {
   "cell_type": "code",
   "execution_count": 5,
   "id": "01a7a46d",
   "metadata": {},
   "outputs": [],
   "source": [
    "def load_fitted_models():\n",
    "    '''\n",
    "    Function that loads fitted models and sets the model_loaded_flag to True. \n",
    "    Saves readers the trouble of having to fit all the models every time they open the notebook.\n",
    "    \n",
    "    Inputs:\n",
    "    ------\n",
    "    None\n",
    "    \n",
    "    Returns:\n",
    "    -------\n",
    "    model_dict: a dictionary that contain fitted models\n",
    "    models_loaded_flag: A boolean. If set to True, most models in the notebook will not undergo \n",
    "                        fitting, and load models from the dictionary instead.\n",
    "\n",
    "    '''\n",
    "    \n",
    "    model_dict = {}\n",
    "    model_dict['rr_best'] = joblib.load('fitted_models/rr_best.pkl')\n",
    "    model_dict['gridsearch_model_xgb'] = joblib.load('fitted_models/gridsearch_model_xgb.pkl')\n",
    "    model_dict['gridsearch_model'] = joblib.load('fitted_models/gridsearch_model.pkl')\n",
    "    model_dict['optimized_gridsearch_model'] = joblib.load('fitted_models/optimized_gridsearch_model.pkl')\n",
    "    \n",
    "    models_loaded_flag = True\n",
    "    return model_dict, models_loaded_flag"
   ]
  },
  {
   "cell_type": "code",
   "execution_count": 6,
   "id": "ecd49b81",
   "metadata": {},
   "outputs": [],
   "source": [
    "# Load fitted models\n",
    "model_dict, models_loaded_flag = load_fitted_models()"
   ]
  },
  {
   "cell_type": "code",
   "execution_count": 7,
   "id": "d6eef239",
   "metadata": {},
   "outputs": [],
   "source": [
    "# # UNCOMMENT THIS CODE BLOCK IF YOU WANT TO SEE THE TRAINING OF EACH MODEL. OTHERWISE, FITTED MODELS WILL BE LOADED\n",
    "# models_loaded_flag = False"
   ]
  },
  {
   "cell_type": "markdown",
   "id": "728c368e",
   "metadata": {},
   "source": [
    "***"
   ]
  },
  {
   "cell_type": "markdown",
   "id": "463d858e",
   "metadata": {},
   "source": [
    "## Workflow\n",
    "[1. Prepare data for ColumnTransformer and Pipelines](#Step1)     \n",
    "[2. Fit a dummy regressor as a baseline model](#Step2)  \n",
    "[3. Use GridSearchCV to optimize hyperparameters for Ridge, Lasso, DecisionTreeRegressor and KNNRegressor models](#Step3)    \n",
    "[4. Use GridSearchCV to find optimal hyperparameter values for XGBRegressor](#Step4)  \n",
    "[5. Fit neural networks](#Step5)  \n",
    "*5.1. Fit neural network with TF-IDF vectorzed text*  \n",
    "*5.2. Fit neural network with word2vec word embeddings*    \n",
    "*5.3. Fit neural network with GloVe word embeddings.*  \n",
    "[6. Fit our best models from steps 3 and 4 using word embeddings](#Step6)    \n",
    "*6.1. Fit our best model using word2vec*  \n",
    "*6.2. Fit our best model using GloVe*  \n",
    "\n",
    "Models that perform worse than our dummy regressor will be excluded from further analysis. \n",
    "\n",
    "Now we will load in our preprocessed data. "
   ]
  },
  {
   "cell_type": "code",
   "execution_count": 8,
   "id": "9b4a2aa9",
   "metadata": {},
   "outputs": [
    {
     "data": {
      "text/html": [
       "<div>\n",
       "<style scoped>\n",
       "    .dataframe tbody tr th:only-of-type {\n",
       "        vertical-align: middle;\n",
       "    }\n",
       "\n",
       "    .dataframe tbody tr th {\n",
       "        vertical-align: top;\n",
       "    }\n",
       "\n",
       "    .dataframe thead th {\n",
       "        text-align: right;\n",
       "    }\n",
       "</style>\n",
       "<table border=\"1\" class=\"dataframe\">\n",
       "  <thead>\n",
       "    <tr style=\"text-align: right;\">\n",
       "      <th></th>\n",
       "      <th>name</th>\n",
       "      <th>review.point</th>\n",
       "      <th>Blended Malt Scotch Whisky</th>\n",
       "      <th>Blended Scotch Whisky</th>\n",
       "      <th>Grain Scotch Whisky</th>\n",
       "      <th>Single Grain Whisky</th>\n",
       "      <th>Single Malt Scotch</th>\n",
       "      <th>price_string</th>\n",
       "      <th>cleaned_reviews</th>\n",
       "      <th>review_length</th>\n",
       "    </tr>\n",
       "  </thead>\n",
       "  <tbody>\n",
       "    <tr>\n",
       "      <th>0</th>\n",
       "      <td>Johnnie Walker Blue Label, 40%</td>\n",
       "      <td>97</td>\n",
       "      <td>0.0</td>\n",
       "      <td>1.0</td>\n",
       "      <td>0.0</td>\n",
       "      <td>0.0</td>\n",
       "      <td>0.0</td>\n",
       "      <td>225.0</td>\n",
       "      <td>magnificently powerful and intense caramels dr...</td>\n",
       "      <td>66</td>\n",
       "    </tr>\n",
       "    <tr>\n",
       "      <th>1</th>\n",
       "      <td>Black Bowmore, 1964 vintage, 42 year old, 40.5%</td>\n",
       "      <td>97</td>\n",
       "      <td>0.0</td>\n",
       "      <td>0.0</td>\n",
       "      <td>0.0</td>\n",
       "      <td>0.0</td>\n",
       "      <td>1.0</td>\n",
       "      <td>4500.0</td>\n",
       "      <td>what impresses me most is how this whisky evol...</td>\n",
       "      <td>82</td>\n",
       "    </tr>\n",
       "    <tr>\n",
       "      <th>2</th>\n",
       "      <td>Bowmore 46 year old (distilled 1964), 42.9%</td>\n",
       "      <td>97</td>\n",
       "      <td>0.0</td>\n",
       "      <td>0.0</td>\n",
       "      <td>0.0</td>\n",
       "      <td>0.0</td>\n",
       "      <td>1.0</td>\n",
       "      <td>13500.0</td>\n",
       "      <td>there have been some legendary bowmores from t...</td>\n",
       "      <td>84</td>\n",
       "    </tr>\n",
       "    <tr>\n",
       "      <th>3</th>\n",
       "      <td>Compass Box The General, 53.4%</td>\n",
       "      <td>96</td>\n",
       "      <td>1.0</td>\n",
       "      <td>0.0</td>\n",
       "      <td>0.0</td>\n",
       "      <td>0.0</td>\n",
       "      <td>0.0</td>\n",
       "      <td>325.0</td>\n",
       "      <td>with a name inspired by a 1926 buster keaton m...</td>\n",
       "      <td>77</td>\n",
       "    </tr>\n",
       "    <tr>\n",
       "      <th>4</th>\n",
       "      <td>Chivas Regal Ultis, 40%</td>\n",
       "      <td>96</td>\n",
       "      <td>1.0</td>\n",
       "      <td>0.0</td>\n",
       "      <td>0.0</td>\n",
       "      <td>0.0</td>\n",
       "      <td>0.0</td>\n",
       "      <td>160.0</td>\n",
       "      <td>captivating enticing and wonderfully charming ...</td>\n",
       "      <td>71</td>\n",
       "    </tr>\n",
       "  </tbody>\n",
       "</table>\n",
       "</div>"
      ],
      "text/plain": [
       "                                              name  review.point  \\\n",
       "0                   Johnnie Walker Blue Label, 40%            97   \n",
       "1  Black Bowmore, 1964 vintage, 42 year old, 40.5%            97   \n",
       "2      Bowmore 46 year old (distilled 1964), 42.9%            97   \n",
       "3                   Compass Box The General, 53.4%            96   \n",
       "4                          Chivas Regal Ultis, 40%            96   \n",
       "\n",
       "   Blended Malt Scotch Whisky  Blended Scotch Whisky  Grain Scotch Whisky  \\\n",
       "0                         0.0                    1.0                  0.0   \n",
       "1                         0.0                    0.0                  0.0   \n",
       "2                         0.0                    0.0                  0.0   \n",
       "3                         1.0                    0.0                  0.0   \n",
       "4                         1.0                    0.0                  0.0   \n",
       "\n",
       "   Single Grain Whisky  Single Malt Scotch  price_string  \\\n",
       "0                  0.0                 0.0         225.0   \n",
       "1                  0.0                 1.0        4500.0   \n",
       "2                  0.0                 1.0       13500.0   \n",
       "3                  0.0                 0.0         325.0   \n",
       "4                  0.0                 0.0         160.0   \n",
       "\n",
       "                                     cleaned_reviews  review_length  \n",
       "0  magnificently powerful and intense caramels dr...             66  \n",
       "1  what impresses me most is how this whisky evol...             82  \n",
       "2  there have been some legendary bowmores from t...             84  \n",
       "3  with a name inspired by a 1926 buster keaton m...             77  \n",
       "4  captivating enticing and wonderfully charming ...             71  "
      ]
     },
     "execution_count": 8,
     "metadata": {},
     "output_type": "execute_result"
    }
   ],
   "source": [
    "# Load in data\n",
    "data = joblib.load('data/data_with_engineered_feature.pkl')\n",
    "\n",
    "# Inspect the data\n",
    "data.head()"
   ]
  },
  {
   "cell_type": "markdown",
   "id": "26e03b48",
   "metadata": {},
   "source": [
    "***"
   ]
  },
  {
   "cell_type": "markdown",
   "id": "52d27cb1",
   "metadata": {},
   "source": [
    "<a id='Step1'></a>\n",
    "## 1. Preparing data for ColumnTransformer\n",
    "We will separate our features into text and non-text columns. This will allow us to tell the ColumnTransformer to only vectorize and transform the text data, and allow the non-text data to pass through without any transformations. "
   ]
  },
  {
   "cell_type": "code",
   "execution_count": 9,
   "id": "520de1b0",
   "metadata": {},
   "outputs": [
    {
     "data": {
      "text/plain": [
       "['name',\n",
       " 'review.point',\n",
       " 'Blended Malt Scotch Whisky',\n",
       " 'Blended Scotch Whisky',\n",
       " 'Grain Scotch Whisky',\n",
       " 'Single Grain Whisky',\n",
       " 'Single Malt Scotch',\n",
       " 'price_string',\n",
       " 'review_length']"
      ]
     },
     "execution_count": 9,
     "metadata": {},
     "output_type": "execute_result"
    }
   ],
   "source": [
    "# Separate our text and non-text data. 'name' needs to be dropped later as ColumnTransform cannot let non-numeric data pass through.\n",
    "text_data = data['cleaned_reviews']\n",
    "non_text = data.drop(['cleaned_reviews'], axis=1)\n",
    "\n",
    "# ColumnTransformer expects a list of column names as arguments. \n",
    "non_text_cols = non_text.columns.tolist()\n",
    "non_text_cols"
   ]
  },
  {
   "cell_type": "markdown",
   "id": "77b832d7",
   "metadata": {},
   "source": [
    "Now that we have separated our data into text and non-text data, we can define how individual columns will be transformed when we use the ColumnTransformer. "
   ]
  },
  {
   "cell_type": "markdown",
   "id": "7c400732",
   "metadata": {},
   "source": [
    "## Helper Function \n",
    "Below is a function that helps us define ColumnTransformers to interact with Pipelines and GridSearchCV later. This code was borrowed from [Allistair Cota](https://github.com/allistaircota/rate_my_restaurant/blob/main/notebooks/NB3-Modelling.ipynb)."
   ]
  },
  {
   "cell_type": "code",
   "execution_count": 10,
   "id": "f4ea6bc9",
   "metadata": {},
   "outputs": [],
   "source": [
    "def define_col_trans(input_text, vectorizer):\n",
    "    '''\n",
    "    Returns a ColumnTransformer which first performs a \n",
    "    passthrough on the numeric columns, then applies\n",
    "    a vectorizer on the `text` column\n",
    "    \n",
    "    PARAMETERS:\n",
    "    - input_text: str, to name the vectorizer tuple\n",
    "    - vectorizer: Sklearn text vectorizer\n",
    "    \n",
    "    RETURNS:\n",
    "    - col_trans: sklearn ColumnTransformer\n",
    "    \n",
    "    '''\n",
    "    \n",
    "    # Vectorize text data (cleaned_reviews column) and let everything else pass through\n",
    "    \n",
    "    col_trans = ColumnTransformer([\n",
    "        (input_text, vectorizer, 'cleaned_reviews')\n",
    "    ], \n",
    "        remainder='passthrough', \n",
    "        sparse_threshold=0)\n",
    "    \n",
    "    return col_trans"
   ]
  },
  {
   "cell_type": "markdown",
   "id": "2f14be01",
   "metadata": {},
   "source": [
    "## Splitting the data\n",
    "\n",
    "### Note about dropping `name`\n",
    "Name requires to be dropped from the input variables as it isn't actually used for analysis, and causes issues when we scale the data (as it is not converted into numeric form). "
   ]
  },
  {
   "cell_type": "code",
   "execution_count": 11,
   "id": "4a85c8cc",
   "metadata": {},
   "outputs": [],
   "source": [
    "# Assign and inputs and target to variables \n",
    "X = data.drop(['name', 'review.point'], axis=1)\n",
    "y = data['review.point']\n",
    "\n",
    "# Split data\n",
    "X_train, X_test, y_train, y_test = train_test_split(X, y, test_size=0.2, random_state=88)"
   ]
  },
  {
   "cell_type": "markdown",
   "id": "b68cea77",
   "metadata": {},
   "source": [
    "## Preparing the pipeline\n",
    "We will use the pipeline to vectorize our text data, and then scale our data. "
   ]
  },
  {
   "cell_type": "code",
   "execution_count": 12,
   "id": "91295f85",
   "metadata": {},
   "outputs": [],
   "source": [
    "# Define column transformers\n",
    "bow_ct = define_col_trans('bow_ct',  CountVectorizer(stop_words=my_stop_words, min_df=5, tokenizer=my_lemmatizer))\n",
    "tfidf_ct = define_col_trans('tfidf_ct',  TfidfVectorizer(stop_words=my_stop_words, min_df=5, tokenizer=my_lemmatizer))\n",
    "\n",
    "vectorizer_list = [bow_ct, tfidf_ct]\n",
    "\n",
    "# Prepare pipeline - vectorize text, scale data, and then fit a model\n",
    "estimators = [\n",
    "    ('transformer', bow_ct), \n",
    "    ('scaler', StandardScaler()),\n",
    "    ('model', Ridge())\n",
    "]\n",
    "\n",
    "my_pipe = Pipeline(estimators)"
   ]
  },
  {
   "cell_type": "markdown",
   "id": "d29ef8d9",
   "metadata": {},
   "source": [
    "***"
   ]
  },
  {
   "cell_type": "markdown",
   "id": "691891c9",
   "metadata": {},
   "source": [
    "<a id='Step2'></a>\n",
    "## 2. Baseline model\n",
    "We will use a model that always predicts the mean rating as a baseline model. Any model that performs worse than the baseline will not undergo further analysis. "
   ]
  },
  {
   "cell_type": "code",
   "execution_count": 13,
   "id": "532cb74f",
   "metadata": {},
   "outputs": [
    {
     "name": "stdout",
     "output_type": "stream",
     "text": [
      "The baseline model that always predicts the mean has an MAE of: 3.1338969052732875\n"
     ]
    }
   ],
   "source": [
    "# Dummy regressor - Baseline model \n",
    "baseline = DummyRegressor(strategy='mean')\n",
    "baseline.fit(X_train, y_train)\n",
    "\n",
    "# make predictions\n",
    "y_pred = baseline.predict(X_test)\n",
    "\n",
    "# use MAE to determine baseline score \n",
    "dummy_mae = clipped_mae(y_test, y_pred) \n",
    "\n",
    "print(f'The baseline model that always predicts the mean has an MAE of: {dummy_mae}')"
   ]
  },
  {
   "cell_type": "markdown",
   "id": "6802bb1d",
   "metadata": {},
   "source": [
    "***"
   ]
  },
  {
   "cell_type": "markdown",
   "id": "36bacd4e",
   "metadata": {},
   "source": [
    "<a id='Step3'></a>\n",
    "## 3. Using GridSearchCV: Finding the model with the lowest error\n",
    "In the next code block, we will be using GridSearchCV to see which model between Ridge regression, Lasso regression, Decision Tree Regressor, and KNN regressor has the lowest cross validation score. We will also try different text representations - Tfidf and CountVectorizer - and see which representation results in the lowest cross validation score. "
   ]
  },
  {
   "cell_type": "code",
   "execution_count": 14,
   "id": "debb720f",
   "metadata": {},
   "outputs": [
    {
     "name": "stdout",
     "output_type": "stream",
     "text": [
      "Loading pre-trained model...\n",
      "\n",
      "The best model used the following settings: \n",
      " Pipeline(steps=[('transformer',\n",
      "                 ColumnTransformer(remainder='passthrough', sparse_threshold=0,\n",
      "                                   transformers=[('tfidf_ct',\n",
      "                                                  TfidfVectorizer(min_df=5,\n",
      "                                                                  stop_words=frozenset({'a',\n",
      "                                                                                        'aberfeldy',\n",
      "                                                                                        'aberlour',\n",
      "                                                                                        'about',\n",
      "                                                                                        'above',\n",
      "                                                                                        'across',\n",
      "                                                                                        'adelphi',\n",
      "                                                                                        'after',\n",
      "                                                                                        'afterwards',\n",
      "                                                                                        'again',\n",
      "                                                                                        'against',\n",
      "                                                                                        'alexander',\n",
      "                                                                                        'all',\n",
      "                                                                                        'alltabhainne',\n",
      "                                                                                        'almost',\n",
      "                                                                                        'alone',\n",
      "                                                                                        'along',\n",
      "                                                                                        'already',\n",
      "                                                                                        'also',\n",
      "                                                                                        'although',\n",
      "                                                                                        'always',\n",
      "                                                                                        'am',\n",
      "                                                                                        'among',\n",
      "                                                                                        'amongst',\n",
      "                                                                                        'amoungst',\n",
      "                                                                                        'amount',\n",
      "                                                                                        'an',\n",
      "                                                                                        'and',\n",
      "                                                                                        'another',\n",
      "                                                                                        'antiquary', ...}),\n",
      "                                                                  tokenizer=<function my_lemmatizer at 0x000001CED1850DC8>),\n",
      "                                                  'cleaned_reviews')])),\n",
      "                ('scaler', MinMaxScaler()), ('model', Ridge(alpha=10))])\n",
      "The test set accuracy of the best model from our grid search is 2.599054592308857\n"
     ]
    }
   ],
   "source": [
    "# If models have been loaded, grab it from dictionary. Otherwise, perform gridsearch. \n",
    "if models_loaded_flag:\n",
    "    print('Loading pre-trained model...')\n",
    "    gridsearch_model = model_dict['gridsearch_model']\n",
    "    \n",
    "    # Print the best estimator\n",
    "    print('\\nThe best model used the following settings:', '\\n',gridsearch_model.best_estimator_)\n",
    "    \n",
    "    # Make predictions\n",
    "    y_preds = gridsearch_model.predict(X_test)\n",
    "\n",
    "    # Print score \n",
    "    print(f'The test set accuracy of the best model from our grid search is {clipped_mae(y_preds, y_test)}')\n",
    "\n",
    "else: \n",
    "    print('Training models from scratch')\n",
    "    # List of hyperparameters to tune\n",
    "    c_values = [0.0001, 0.001, 0.01, 0.1, 1, 10, 100, 1000]\n",
    "    K_values = np.arange(1,32,2).tolist()\n",
    "    depth_list = [2,3,4,5,6,7]\n",
    "\n",
    "    # Define parameters of GridSearch \n",
    "    # Try 4 different models with different hyperparameter options, as well as 2 different vectorizers and scalers. \n",
    "    param_grid = [\n",
    "                {'transformer': vectorizer_list,\n",
    "                 'model': [Ridge()],\n",
    "                 'scaler': [StandardScaler(), MinMaxScaler()],\n",
    "                 'model__alpha': c_values},\n",
    "                {'transformer': vectorizer_list,\n",
    "                 'model': [Lasso()],\n",
    "                 'scaler': [StandardScaler(), MinMaxScaler()],\n",
    "                 'model__alpha': c_values},\n",
    "                {'transformer': vectorizer_list,\n",
    "                 'model': [KNeighborsRegressor()],\n",
    "                 'scaler': [StandardScaler(), MinMaxScaler()],\n",
    "                 'model__n_neighbors': K_values },\n",
    "                {'transformer': vectorizer_list,\n",
    "                 'model': [DecisionTreeRegressor()],\n",
    "                 'scaler': [StandardScaler(), MinMaxScaler()],\n",
    "                 'model__max_depth': depth_list}\n",
    "    ]\n",
    "    \n",
    "    # GridSearch for best estimator\n",
    "    my_grid = GridSearchCV(my_pipe, param_grid, cv=5, scoring=scoring, n_jobs=-1)\n",
    "    my_fitted_grid = my_grid.fit(X_train, y_train)\n",
    "\n",
    "    # Best estimator\n",
    "    print(my_fitted_grid.best_estimator_)\n",
    "    \n",
    "    # Make predictions\n",
    "    y_preds = my_fitted_grid.predict(X_test)\n",
    "\n",
    "    # Print score \n",
    "    print(f'\\n The test set accuracy of the best model from our grid search is {clipped_mae(y_preds, y_test)}')\n",
    "\n",
    "    # Save best estimator\n",
    "    grid_search_model = my_fitted_grid\n",
    "    joblib.dump(my_fitted_grid, 'fitted_models/gridsearch_model.pkl')"
   ]
  },
  {
   "cell_type": "markdown",
   "id": "0d2babc2",
   "metadata": {},
   "source": [
    "<a id='Step31'></a>\n",
    "\n",
    "### 3.1 Optimizing best model\n",
    "\n",
    "The output of the grid search revealed that the best model was a Ridge regression model using a TfidfVectorizer, a MinMaxScaler, and a regularization term of 10. In the next block, we will try to further optimize the regularization term. "
   ]
  },
  {
   "cell_type": "code",
   "execution_count": 15,
   "id": "d116bb8e",
   "metadata": {},
   "outputs": [
    {
     "name": "stdout",
     "output_type": "stream",
     "text": [
      "Loading pre-trained model...\n",
      "\n",
      "The optimal model used the following parameters: \n",
      " Pipeline(steps=[('transformer',\n",
      "                 ColumnTransformer(remainder='passthrough', sparse_threshold=0,\n",
      "                                   transformers=[('bow_ct',\n",
      "                                                  CountVectorizer(min_df=5,\n",
      "                                                                  stop_words=frozenset({'a',\n",
      "                                                                                        'aberfeldy',\n",
      "                                                                                        'aberlour',\n",
      "                                                                                        'about',\n",
      "                                                                                        'above',\n",
      "                                                                                        'across',\n",
      "                                                                                        'adelphi',\n",
      "                                                                                        'after',\n",
      "                                                                                        'afterwards',\n",
      "                                                                                        'again',\n",
      "                                                                                        'against',\n",
      "                                                                                        'alexander',\n",
      "                                                                                        'all',\n",
      "                                                                                        'alltabhainne',\n",
      "                                                                                        'almost',\n",
      "                                                                                        'alone',\n",
      "                                                                                        'along',\n",
      "                                                                                        'already',\n",
      "                                                                                        'also',\n",
      "                                                                                        'although',\n",
      "                                                                                        'always',\n",
      "                                                                                        'am',\n",
      "                                                                                        'among',\n",
      "                                                                                        'amongst',\n",
      "                                                                                        'amoungst',\n",
      "                                                                                        'amount',\n",
      "                                                                                        'an',\n",
      "                                                                                        'and',\n",
      "                                                                                        'another',\n",
      "                                                                                        'antiquary', ...}),\n",
      "                                                                  tokenizer=<function my_lemmatizer at 0x000001CED1850DC8>),\n",
      "                                                  'cleaned_reviews')])),\n",
      "                ('scaler', MinMaxScaler()), ('model', Ridge(alpha=20))])\n",
      "\n",
      "The clipped MAE on the test set is 2.616718588409604\n"
     ]
    }
   ],
   "source": [
    "if models_loaded_flag:\n",
    "    print('Loading pre-trained model...')\n",
    "    optimized_gridsearch_model = model_dict['optimized_gridsearch_model']\n",
    "    \n",
    "    # Print optimized model \n",
    "    print('\\nThe optimal model used the following parameters:', '\\n', optimized_gridsearch_model.best_estimator_)\n",
    "    \n",
    "    # Predict on test set\n",
    "    y_preds = optimized_gridsearch_model.predict(X_test)\n",
    "    \n",
    "    # Clipped MAE on test set\n",
    "    print(f'\\nThe clipped MAE on the test set is {clipped_mae(y_preds, y_test)}')\n",
    "\n",
    "else:     \n",
    "    \n",
    "    # Additional values for regularization term to try\n",
    "    c_list = np.arange(10,41).tolist()\n",
    "\n",
    "    # Try to optimize Regularization  \n",
    "    my_pipe2 = Pipeline(estimators)\n",
    "\n",
    "    param_grid2 = [\n",
    "                {'transformer': [tfidf_ct],\n",
    "                 'model': [Ridge()],\n",
    "                 'scaler': [MinMaxScaler()],\n",
    "                 'model__alpha': c_list}\n",
    "    ]\n",
    "    \n",
    "    # GridSearch for best estimator\n",
    "    grid2 = GridSearchCV(my_pipe2, param_grid2, cv=5, scoring=scoring, n_jobs=-1)\n",
    "    fitted_grid2 = grid2.fit(X_train, y_train)\n",
    "\n",
    "    # Score of best model \n",
    "    y_preds = fitted_grid2.predict(X_test)\n",
    "\n",
    "    # Clipped mae \n",
    "    print(f'\\nThe test MAE of the best model is {clipped_mae(y_test, y_preds)}')\n",
    "\n",
    "    # Best estimator\n",
    "    print(fitted_grid2.best_estimator_)\n",
    "\n",
    "    # Save optimized model \n",
    "    optimized_gridsearch_model = fitted_grid2\n",
    "    joblib.dump(optimized_gridsearch_model, 'optimized_gridsearch_model.pkl')"
   ]
  },
  {
   "cell_type": "markdown",
   "id": "f7e017c4",
   "metadata": {},
   "source": [
    "From the output above, after further tuning our regularization term, the best performing Ridge regression model had a regularization term of 20. \n",
    "We will recreate the best ridge regression and model and save it. "
   ]
  },
  {
   "cell_type": "markdown",
   "id": "a62ee160",
   "metadata": {},
   "source": [
    "## 3.2. Recreating and saving best model\n",
    "Below we will be recreating the best Ridge regression model and saving it. "
   ]
  },
  {
   "cell_type": "code",
   "execution_count": 16,
   "id": "8e06564c",
   "metadata": {
    "scrolled": false
   },
   "outputs": [
    {
     "name": "stdout",
     "output_type": "stream",
     "text": [
      "Loading pre-trained model...\n",
      "\n",
      "The MAE of the test set is 2.6120779945039247\n"
     ]
    }
   ],
   "source": [
    "# If models are loaded, extract the fitted model from the models dictionary. If they are not loaded, train the model. \n",
    "if models_loaded_flag:\n",
    "    print('Loading pre-trained model...')\n",
    "    \n",
    "    # load model from dictionary\n",
    "    rr_best = model_dict['rr_best']\n",
    "    \n",
    "    # make predictions on our fitted model\n",
    "    y_pred = rr_best.predict(X_test)\n",
    "    \n",
    "    # calculate MAE on test set\n",
    "    best_rr_clipped_mae = clipped_mae(y_test, y_pred)\n",
    "    \n",
    "    print(f'\\nThe MAE of the test set is {best_rr_clipped_mae}')\n",
    "\n",
    "else: \n",
    "\n",
    "    ridge_pipe = Pipeline([\n",
    "        ('transformer', tfidf_ct),\n",
    "        ('scaler', MinMaxScaler()),\n",
    "        ('model', Ridge(alpha=20))\n",
    "    ])\n",
    "    \n",
    "    # Fit best model\n",
    "    rr_best = ridge_pipe.fit(X_train, y_train)\n",
    "    \n",
    "    # Make predictions with model \n",
    "    y_preds = rr_best.predict(X_test)\n",
    "    \n",
    "    # MAE on test set\n",
    "    print(f'\\nThe MAE of the test set is {clipped_mae(y_test, y_preds)}')\n",
    "\n",
    "    # Pickle our best model \n",
    "    joblib.dump(rr_best, 'fitted_models/rr_best.pkl')"
   ]
  },
  {
   "cell_type": "markdown",
   "id": "5d85c93b",
   "metadata": {},
   "source": [
    "### Best model so far: Ridge regression with TF-IDF\n",
    "So far we have used GridSearch to rule out 3 different models. We found that Ridge regression had the best cross validation score. When we compared TF-IDF tokenization against Bag of Words tokenization, Bag of Words had a lower mean absolute error on the test set (3.05). We tried to optimize the Ridge regression model by testing more values for the regularization term, and found that the best model used TF-IDF representation (MAE = 2.612). The Dummy regressor had a mean absoute error of 3.133, so the Ridge regression model is our candidate for best model so far. \n",
    "\n",
    "The next step is to investigate ensemble methods and neural networks. \n",
    "\n",
    "***"
   ]
  },
  {
   "cell_type": "markdown",
   "id": "457134d6",
   "metadata": {},
   "source": [
    "<a id='Step4'></a>\n",
    "## 4. XGBRegressor \n",
    "We are interested in the difference in language used between high scoring whiskys, and lower scoring whiskys. The manner in which we do this will be to investigate the coefficient of each word in our vocabulary. While ensemble methods and neural networks may provide a more accurate model, we lose ease of interpretability with these models. \n",
    "\n",
    "With that in mind, we will fit an XGBRegressor model and try fitting different neural networks and see how accurate our predictions can get.  "
   ]
  },
  {
   "cell_type": "markdown",
   "id": "64fa1c48",
   "metadata": {},
   "source": [
    "In the code block below, we will use GridSearchCV to help us optimze the hyperparameters for the XGBRegressor."
   ]
  },
  {
   "cell_type": "code",
   "execution_count": 17,
   "id": "89a3d93c",
   "metadata": {},
   "outputs": [
    {
     "name": "stdout",
     "output_type": "stream",
     "text": [
      "Loading pre-trained model...\n",
      "\n",
      "The best estimator used the following parameters: \n",
      " Pipeline(steps=[('transformer',\n",
      "                 ColumnTransformer(remainder='passthrough', sparse_threshold=0,\n",
      "                                   transformers=[('bow_ct',\n",
      "                                                  CountVectorizer(min_df=5,\n",
      "                                                                  stop_words=frozenset({'a',\n",
      "                                                                                        'aberfeldy',\n",
      "                                                                                        'aberlour',\n",
      "                                                                                        'about',\n",
      "                                                                                        'above',\n",
      "                                                                                        'across',\n",
      "                                                                                        'adelphi',\n",
      "                                                                                        'after',\n",
      "                                                                                        'afterwards',\n",
      "                                                                                        'again',\n",
      "                                                                                        'against',\n",
      "                                                                                        'alexander',\n",
      "                                                                                        'all',\n",
      "                                                                                        'alltabhainne',\n",
      "                                                                                        'almost',\n",
      "                                                                                        'alone',\n",
      "                                                                                        'along',\n",
      "                                                                                        'already',\n",
      "                                                                                        'also',\n",
      "                                                                                        'although',...\n",
      "                              gamma=0, gpu_id=-1, importance_type=None,\n",
      "                              interaction_constraints='', learning_rate=0.3,\n",
      "                              max_delta_step=0, max_depth=1, min_child_weight=1,\n",
      "                              missing=nan, monotone_constraints='()',\n",
      "                              n_estimators=200, n_jobs=8, num_parallel_tree=1,\n",
      "                              predictor='auto', random_state=0, reg_alpha=0,\n",
      "                              reg_lambda=1, scale_pos_weight=1, subsample=1,\n",
      "                              tree_method='exact', validate_parameters=1,\n",
      "                              verbosity=None))])\n",
      "\n",
      "The MAE on the test set is 2.5041963029279475\n"
     ]
    }
   ],
   "source": [
    "# If models are loaded, extract the fitted model from the models dictionary. If they are not loaded, optimize the hyperparameters. \n",
    "if models_loaded_flag:\n",
    "    print('Loading pre-trained model...')\n",
    "    gridsearch_model_xgb = model_dict['gridsearch_model_xgb']\n",
    "    \n",
    "    # Print the best estimator\n",
    "    print('\\nThe best estimator used the following parameters:', '\\n', gridsearch_model_xgb.best_estimator_)\n",
    "    \n",
    "    # Test MAE of the best model \n",
    "    predictions = gridsearch_model_xgb.predict(X_test)\n",
    "    print(f'\\nThe MAE on the test set is {clipped_mae(y_test, predictions)}')\n",
    "    \n",
    "else:    \n",
    "\n",
    "    # Using GridSearchCV to find the optimal values for XGBRegressor hyperparameters\n",
    "    # Setup the pipeline\n",
    "    estimators = [\n",
    "        ('transformer', tfidf_ct),\n",
    "        ('scaler', MinMaxScaler()),\n",
    "        ('model', XGBRegressor())\n",
    "    ]\n",
    "    \n",
    "    pipe = Pipeline(estimators)\n",
    "    \n",
    "    # Define which hyperparameters we want to tune\n",
    "    params = {\n",
    "              'transformer': vectorizer_list,\n",
    "              'scaler': [MinMaxScaler(), StandardScaler()],\n",
    "              'model__max_depth': [1, 2, 3, 4],\n",
    "              'model__learning_rate': [0.01, 0.1, 0.3],\n",
    "              'model__n_estimators': [100, 200]\n",
    "    }\n",
    "\n",
    "    # Fit GridSearchCV\n",
    "    grid_search = GridSearchCV(pipe, param_grid=params, scoring=scoring, n_jobs=-1)\n",
    "    fitted_search = grid_search.fit(X_train, y_train)\n",
    "    \n",
    "    # Print the optial hyperparameter values \n",
    "    print(fitted_search.best_estimator_)\n",
    "    \n",
    "    # Test MAE of the best model \n",
    "    predictions = fitted_search.predict(X_test)\n",
    "    print(f'\\nThe MAE on the test set is {clipped_mae(y_test, predictions)}')\n",
    "\n",
    "    # Save to pickle\n",
    "    gridsearch_model_xgb = fitted_search\n",
    "    joblib.dump(gridsearch_model_xgb, 'fitted_models/gridsearch_model_xgb.pkl')    "
   ]
  },
  {
   "cell_type": "markdown",
   "id": "56b5eb42",
   "metadata": {},
   "source": [
    "The XGBRegressor model has a better test mean absolute error than our Ridge regression model. We will fit a new XGBRegressor with the optimized hyperparameter values and save the fitted model so we can further investigate the model later on. "
   ]
  },
  {
   "cell_type": "markdown",
   "id": "5be24970",
   "metadata": {},
   "source": [
    "***"
   ]
  },
  {
   "cell_type": "markdown",
   "id": "a8049db9",
   "metadata": {},
   "source": [
    "<a id='Step5'></a>\n",
    "## 5. Fit Neural Networks\n",
    "We will fit neural networks with the following text representations:\n",
    "1. TF-IDF\n",
    "2. word2vec word embeddings\n",
    "3. Global Vectors for Word Representation (GloVe)"
   ]
  },
  {
   "cell_type": "markdown",
   "id": "259be061",
   "metadata": {},
   "source": [
    "### 5.1. Neural network 1: TF-IDF\n",
    "In the next few code blocks, we are compiling, training, and evaluating a neural network that is using TF-IDF tokenized text as inputs."
   ]
  },
  {
   "cell_type": "code",
   "execution_count": 18,
   "id": "2d8622ef",
   "metadata": {},
   "outputs": [],
   "source": [
    "from keras.wrappers.scikit_learn import KerasRegressor\n",
    "from keras.metrics import MeanAbsoluteError\n",
    "\n",
    "# Wrap TF model as scikit-learn model to make use of Pipelines\n",
    "def create_model(optimizer='adam',\n",
    "                 kernel_initializer='glorot_uniform', \n",
    "                 dropout=0.2):\n",
    "    \n",
    "    model = tf.keras.Sequential()\n",
    "    model.add(layers.Dense(128,activation='relu', kernel_initializer=kernel_initializer))\n",
    "    model.add(layers.Dropout(dropout))\n",
    "    model.add(layers.Dense(128,activation='relu', kernel_initializer=kernel_initializer))\n",
    "    model.add(layers.Dropout(dropout))\n",
    "    model.add(layers.Dense(128, activation=\"relu\", kernel_initializer=kernel_initializer))\n",
    "    model.add(layers.Dropout(dropout))\n",
    "    model.add(layers.Dense(128, activation=\"relu\", kernel_initializer=kernel_initializer))\n",
    "    model.add(layers.Dropout(dropout))\n",
    "\n",
    "    # Declare the output layer\n",
    "    model.add(layers.Dense(1, activation='linear', kernel_initializer=kernel_initializer))\n",
    "    \n",
    "    model.compile(loss=keras.losses.MeanAbsoluteError(), \n",
    "                  optimizer=optimizer,\n",
    "                  metrics=[MeanAbsoluteError()])\n",
    "\n",
    "    return model\n",
    "\n",
    "# wrap the model using the function you created\n",
    "model = KerasRegressor(build_fn=create_model,verbose=0)"
   ]
  },
  {
   "cell_type": "code",
   "execution_count": 19,
   "id": "53236254",
   "metadata": {
    "scrolled": false
   },
   "outputs": [
    {
     "name": "stdout",
     "output_type": "stream",
     "text": [
      "The test MAE is 5.284430200113751\n"
     ]
    }
   ],
   "source": [
    "# Set up pipeline\n",
    "nn_pipe = Pipeline([\n",
    "    ('vectorizer', tfidf_ct),\n",
    "    ('scaler', MinMaxScaler()),\n",
    "    ('model', model)\n",
    "])\n",
    "\n",
    "# Define early stopping\n",
    "early_stop = EarlyStopping(monitor='val_loss', \n",
    "                       patience=10, \n",
    "                       mode='min', \n",
    "                       verbose=1,\n",
    "                       restore_best_weights=True)\n",
    "\n",
    "# Fit pipe\n",
    "nn_pipe.fit(\n",
    "    X_train, y_train, \n",
    "    model__epochs=40,\n",
    "    model__validation_split=0.2, \n",
    "    model__callbacks=[early_stop]\n",
    ")\n",
    "\n",
    "# Make prediction\n",
    "nn_preds = nn_pipe.predict(X_test)\n",
    "\n",
    "# Check MAE \n",
    "print(f'The test MAE is {clipped_mae(nn_preds, y_test)}')"
   ]
  },
  {
   "cell_type": "markdown",
   "id": "120646e5",
   "metadata": {},
   "source": [
    "*Model evaluation*"
   ]
  },
  {
   "cell_type": "markdown",
   "id": "516529b3",
   "metadata": {},
   "source": [
    "This neural network is performing worse than both the dummy regressor, and the current best model, Ridge regression (MAE = 2.62). We will exclude this model from further investigation. "
   ]
  },
  {
   "cell_type": "markdown",
   "id": "0f6b51e2",
   "metadata": {},
   "source": [
    "***"
   ]
  },
  {
   "cell_type": "markdown",
   "id": "d411d9fe",
   "metadata": {},
   "source": [
    "## 5.2. Neural network 2: word2vec\n",
    "The second neural network will use word2vec word embeddings as inputs. We will load in the word embeddings, and create a function that will calculate the vectorized representation of each review. Then, we will convert each review to their vectorized representation, and compile, train and evaluate the neural network."
   ]
  },
  {
   "cell_type": "markdown",
   "id": "8b25e647",
   "metadata": {},
   "source": [
    "First, we will have to load the word embeddings. "
   ]
  },
  {
   "cell_type": "code",
   "execution_count": 20,
   "id": "24112ece",
   "metadata": {},
   "outputs": [],
   "source": [
    "# Load word2vec word embeddings\n",
    "w2v = gensim.models.KeyedVectors.load_word2vec_format(\n",
    "    'lexvec.enwiki+newscrawl.300d.W.pos.vectors', binary=False\n",
    ")"
   ]
  },
  {
   "cell_type": "markdown",
   "id": "571642dc",
   "metadata": {},
   "source": [
    "Just use text data when using word embeddings. Let's use the original, unprocessed data.  "
   ]
  },
  {
   "cell_type": "code",
   "execution_count": 21,
   "id": "b5f31315",
   "metadata": {},
   "outputs": [],
   "source": [
    "original_data = pd.read_csv('data/scotch_review.csv')\n",
    "X = original_data['description']\n",
    "y = original_data['review.point']"
   ]
  },
  {
   "cell_type": "code",
   "execution_count": 22,
   "id": "5f225196",
   "metadata": {},
   "outputs": [],
   "source": [
    "X_train, X_test, y_train, y_test = train_test_split(X, y, train_size=0.8, random_state=88)"
   ]
  },
  {
   "cell_type": "markdown",
   "id": "12650ad8",
   "metadata": {},
   "source": [
    "Define a function that takes the average word embedding for the entire review. "
   ]
  },
  {
   "cell_type": "code",
   "execution_count": 23,
   "id": "8685b758",
   "metadata": {},
   "outputs": [],
   "source": [
    "def sentence2vec(text, embedding):\n",
    "    \"\"\"\n",
    "    Embed a sentence by averaging the word vectors of the tokenized text. Out-of-vocabulary words are replaced by the zero-vector.\n",
    "    -----\n",
    "    \n",
    "    Input: text (string)\n",
    "    Output: embedding vector (np.array)\n",
    "    \"\"\"\n",
    "    model = embedding\n",
    "    tokenized = simple_preprocess(text)\n",
    "    \n",
    "    word_embeddings = [np.zeros(300)]\n",
    "    for word in tokenized:\n",
    "        # if the word is in the model then embed\n",
    "        if word in model:\n",
    "            vector = model[word]\n",
    "        # add zeros for out-of-vocab words\n",
    "        else:\n",
    "            vector = np.zeros(300)\n",
    "            \n",
    "        word_embeddings.append(vector)\n",
    "    \n",
    "    # average the word vectors\n",
    "    sentence_embedding = np.stack(word_embeddings).mean(axis=0)\n",
    "    \n",
    "    return sentence_embedding"
   ]
  },
  {
   "cell_type": "markdown",
   "id": "288ca8eb",
   "metadata": {},
   "source": [
    "Get the vector representation of each review in the dataset"
   ]
  },
  {
   "cell_type": "code",
   "execution_count": 24,
   "id": "2f8b3469",
   "metadata": {},
   "outputs": [],
   "source": [
    "# embed the sentences\n",
    "X_train_w2v = X_train.apply(lambda x: sentence2vec(text=x, embedding=w2v))\n",
    "X_test_w2v = X_test.apply(lambda x: sentence2vec(text=x, embedding=w2v))\n",
    "\n",
    "X_train_w2v = np.array(X_train_w2v.tolist())\n",
    "X_test_w2v = np.array(X_test_w2v.tolist())"
   ]
  },
  {
   "cell_type": "markdown",
   "id": "e1fcc7fe",
   "metadata": {},
   "source": [
    "**Compile, train, and evaluate the performance of a neural network that is using word2vec word embeddings as inputs.**"
   ]
  },
  {
   "cell_type": "markdown",
   "id": "5e37fe79",
   "metadata": {},
   "source": [
    "*Compiling the neural network*"
   ]
  },
  {
   "cell_type": "code",
   "execution_count": 25,
   "id": "5d8fb07a",
   "metadata": {},
   "outputs": [],
   "source": [
    "# Create a new sequential model\n",
    "nn_w2v = tf.keras.Sequential()\n",
    "\n",
    "# Declare the hidden layers\n",
    "nn_w2v.add(layers.Dense(128, activation=\"relu\"))\n",
    "nn_w2v.add(layers.Dropout(0.2))\n",
    "nn_w2v.add(layers.Dense(128, activation=\"relu\"))\n",
    "nn_w2v.add(layers.Dropout(0.2))\n",
    "nn_w2v.add(layers.Dense(128, activation=\"relu\"))\n",
    "nn_w2v.add(layers.Dropout(0.2))\n",
    "nn_w2v.add(layers.Dense(128, activation=\"relu\"))\n",
    "nn_w2v.add(layers.Dropout(0.2))\n",
    "nn_w2v.add(layers.Dense(128, activation=\"relu\"))\n",
    "nn_w2v.add(layers.Dropout(0.2))\n",
    "\n",
    "# Declare the output layer\n",
    "nn_w2v.add(layers.Dense(1, activation='linear'))\n",
    "\n",
    "# Compile\n",
    "nn_w2v.compile(\n",
    "    # Optimizer\n",
    "    optimizer=keras.optimizers.Adam(),  \n",
    "    # Loss function to minimize\n",
    "    loss=keras.losses.MeanAbsoluteError()\n",
    ")"
   ]
  },
  {
   "cell_type": "markdown",
   "id": "dcd98c07",
   "metadata": {},
   "source": [
    "*Train the neural network*"
   ]
  },
  {
   "cell_type": "code",
   "execution_count": 26,
   "id": "a476737a",
   "metadata": {},
   "outputs": [
    {
     "name": "stdout",
     "output_type": "stream",
     "text": [
      "Epoch 1/40\n",
      "45/45 [==============================] - 1s 6ms/step - loss: 47.1009 - val_loss: 4.8880\n",
      "Epoch 2/40\n",
      "45/45 [==============================] - 0s 3ms/step - loss: 11.2456 - val_loss: 6.9670\n",
      "Epoch 3/40\n",
      "45/45 [==============================] - 0s 3ms/step - loss: 11.1641 - val_loss: 11.5767\n",
      "Epoch 4/40\n",
      "45/45 [==============================] - 0s 4ms/step - loss: 10.7048 - val_loss: 7.8047\n",
      "Epoch 5/40\n",
      "45/45 [==============================] - 0s 4ms/step - loss: 10.6538 - val_loss: 7.5353\n",
      "Epoch 6/40\n",
      "45/45 [==============================] - 0s 4ms/step - loss: 10.3638 - val_loss: 3.4544\n",
      "Epoch 7/40\n",
      "45/45 [==============================] - 0s 4ms/step - loss: 9.3551 - val_loss: 4.5704\n",
      "Epoch 8/40\n",
      "45/45 [==============================] - 0s 4ms/step - loss: 9.6375 - val_loss: 3.4737\n",
      "Epoch 9/40\n",
      "45/45 [==============================] - 0s 4ms/step - loss: 9.0388 - val_loss: 3.0685\n",
      "Epoch 10/40\n",
      "45/45 [==============================] - 0s 4ms/step - loss: 9.1504 - val_loss: 6.0561\n",
      "Epoch 11/40\n",
      "45/45 [==============================] - 0s 4ms/step - loss: 8.8847 - val_loss: 5.7291\n",
      "Epoch 12/40\n",
      "45/45 [==============================] - 0s 4ms/step - loss: 8.5325 - val_loss: 5.6418\n",
      "Epoch 13/40\n",
      "45/45 [==============================] - 0s 4ms/step - loss: 8.5138 - val_loss: 5.5551\n",
      "Epoch 14/40\n",
      "45/45 [==============================] - 0s 4ms/step - loss: 8.3634 - val_loss: 5.8484\n",
      "Epoch 15/40\n",
      "45/45 [==============================] - 0s 4ms/step - loss: 8.4012 - val_loss: 4.2109\n",
      "Epoch 16/40\n",
      "45/45 [==============================] - 0s 4ms/step - loss: 8.1286 - val_loss: 3.6024\n",
      "Epoch 17/40\n",
      "45/45 [==============================] - 0s 4ms/step - loss: 7.7584 - val_loss: 9.4082\n",
      "Epoch 18/40\n",
      "45/45 [==============================] - 0s 4ms/step - loss: 8.1900 - val_loss: 2.7502\n",
      "Epoch 19/40\n",
      "45/45 [==============================] - 0s 4ms/step - loss: 7.4443 - val_loss: 5.6892\n",
      "Epoch 20/40\n",
      "45/45 [==============================] - 0s 4ms/step - loss: 7.8502 - val_loss: 2.7868\n",
      "Epoch 21/40\n",
      "45/45 [==============================] - 0s 4ms/step - loss: 7.8337 - val_loss: 2.7678\n",
      "Epoch 22/40\n",
      "45/45 [==============================] - 0s 4ms/step - loss: 7.9193 - val_loss: 8.4624\n",
      "Epoch 23/40\n",
      "45/45 [==============================] - 0s 4ms/step - loss: 7.7054 - val_loss: 2.9788\n",
      "Epoch 24/40\n",
      "45/45 [==============================] - 0s 4ms/step - loss: 7.2731 - val_loss: 4.1138\n",
      "Epoch 25/40\n",
      "45/45 [==============================] - 0s 4ms/step - loss: 7.1034 - val_loss: 4.0815\n",
      "Epoch 26/40\n",
      "45/45 [==============================] - 0s 4ms/step - loss: 7.2278 - val_loss: 3.5006\n",
      "Epoch 27/40\n",
      "45/45 [==============================] - 0s 4ms/step - loss: 7.1819 - val_loss: 4.2847\n",
      "Epoch 28/40\n",
      "45/45 [==============================] - 0s 4ms/step - loss: 7.3565 - val_loss: 3.3009\n",
      "Restoring model weights from the end of the best epoch.\n",
      "Epoch 00028: early stopping\n",
      "\n",
      "Saving model...\n"
     ]
    }
   ],
   "source": [
    "# Stop training early if validation loss doesn't go down \n",
    "early_stop = EarlyStopping(monitor='val_loss', \n",
    "                           patience=10, \n",
    "                           mode='min', \n",
    "                           verbose=1,\n",
    "                           restore_best_weights=True)\n",
    "\n",
    "# Train\n",
    "history = nn_w2v.fit(X_train_w2v, \n",
    "                    y_train, \n",
    "                    epochs=40,\n",
    "                    verbose=1, \n",
    "                    validation_split=0.2,\n",
    "                    callbacks=[early_stop])\n",
    "\n",
    "# Save model\n",
    "print('\\nSaving model...')\n",
    "tf.keras.models.save_model(nn_w2v, 'fitted_models/nn_w2v.h5')"
   ]
  },
  {
   "cell_type": "markdown",
   "id": "abeb0d74",
   "metadata": {},
   "source": [
    "*Evaluate the neural network*"
   ]
  },
  {
   "cell_type": "code",
   "execution_count": 27,
   "id": "756dcbfb",
   "metadata": {},
   "outputs": [
    {
     "name": "stdout",
     "output_type": "stream",
     "text": [
      "Train MAE: 7.3565\n",
      "Test MAE: 3.0204\n",
      "\n",
      "The clipped MAE on the test set is 3.020440165201823\n"
     ]
    }
   ],
   "source": [
    "# Evaluate the network\n",
    "train_loss = history.history[\"loss\"][-1]\n",
    "result = nn_w2v.evaluate(X_test_w2v, y_test, verbose=0)\n",
    "\n",
    "print(f\"Train MAE: {train_loss:.4f}\")\n",
    "print(f\"Test MAE: {result:.4f}\") \n",
    "\n",
    "# Generate predictions\n",
    "predictions = nn_w2v.predict(X_test_w2v)\n",
    "\n",
    "# Score our predictions based on our custom clipped MAE\n",
    "print(f'\\nThe clipped MAE on the test set is {clipped_mae(y_test, predictions)}')"
   ]
  },
  {
   "cell_type": "markdown",
   "id": "a6dc7cf0",
   "metadata": {},
   "source": [
    "This neural network is performing worse than both the dummy regressor, and the current best model, Ridge regression (MAE = 2.58). We will exclude this model from further investigation. \n",
    "\n",
    "***"
   ]
  },
  {
   "cell_type": "markdown",
   "id": "4b4a2ffc",
   "metadata": {},
   "source": [
    "## 5.3. Neural network 3: GloVe\n",
    "The second neural network will use GloVe word embeddings as inputs. We will load in the word embeddings, and thenwe will convert each review to their vectorized representation, and compile, train and evaluate the neural network."
   ]
  },
  {
   "cell_type": "markdown",
   "id": "d4c1fd8f",
   "metadata": {},
   "source": [
    "First, we will load the GloVe word embeddings. In order to reuse our function we created for word2vec, we have to convert the GloVe vectors into the word2vec format. "
   ]
  },
  {
   "cell_type": "code",
   "execution_count": 28,
   "id": "3c2af561",
   "metadata": {},
   "outputs": [],
   "source": [
    "from gensim.test.utils import datapath, get_tmpfile\n",
    "from gensim.models import KeyedVectors\n",
    "from gensim.scripts.glove2word2vec import glove2word2vec\n",
    "\n",
    "# Load GloVe embeddings in the word2vec format\n",
    "glove_file = datapath('glove.6B.300d.txt')\n",
    "word2vec_glove_file = get_tmpfile(\"glove.6B.300d.word2vec.txt\")\n",
    "glove2word2vec(glove_file, word2vec_glove_file)\n",
    "glove = KeyedVectors.load_word2vec_format(word2vec_glove_file, binary=False)"
   ]
  },
  {
   "cell_type": "markdown",
   "id": "4c05cd60",
   "metadata": {},
   "source": [
    "Get the vector representation of each review in the dataset."
   ]
  },
  {
   "cell_type": "code",
   "execution_count": 29,
   "id": "c4d7d489",
   "metadata": {},
   "outputs": [],
   "source": [
    "# embed the sentences\n",
    "X_train_glove = X_train.apply(lambda x: sentence2vec(text=x, embedding=glove))\n",
    "X_test_glove = X_test.apply(lambda x: sentence2vec(text=x, embedding=glove))\n",
    "\n",
    "X_train_glove = np.array(X_train_glove.tolist())\n",
    "X_test_glove = np.array(X_test_glove.tolist())"
   ]
  },
  {
   "cell_type": "markdown",
   "id": "65379d4c",
   "metadata": {},
   "source": [
    "**Compile, train, and evaluate the performance of a neural network that is using GloVe word embeddings as inputs.**"
   ]
  },
  {
   "cell_type": "markdown",
   "id": "5637094e",
   "metadata": {},
   "source": [
    "*Compile the network*"
   ]
  },
  {
   "cell_type": "code",
   "execution_count": 30,
   "id": "79cfb54e",
   "metadata": {},
   "outputs": [],
   "source": [
    "# Create a new sequential model\n",
    "nn_glove = tf.keras.Sequential()\n",
    "\n",
    "# Declare the hidden layers\n",
    "nn_glove.add(layers.Dense(128, activation=\"relu\"))\n",
    "nn_glove.add(layers.Dropout(0.2))\n",
    "nn_glove.add(layers.Dense(128, activation=\"relu\"))\n",
    "nn_glove.add(layers.Dropout(0.2))\n",
    "nn_glove.add(layers.Dense(128, activation=\"relu\"))\n",
    "nn_glove.add(layers.Dropout(0.2))\n",
    "nn_glove.add(layers.Dense(128, activation=\"relu\"))\n",
    "nn_glove.add(layers.Dropout(0.2))\n",
    "nn_glove.add(layers.Dense(128, activation=\"relu\"))\n",
    "nn_glove.add(layers.Dropout(0.2))\n",
    "\n",
    "# Declare the output layer\n",
    "nn_glove.add(layers.Dense(1, activation='linear'))\n",
    "\n",
    "# Compile\n",
    "nn_glove.compile(\n",
    "    # Optimizer\n",
    "    optimizer=keras.optimizers.Adam(),  \n",
    "    # Loss function to minimize\n",
    "    loss=keras.losses.MeanAbsoluteError()\n",
    ")"
   ]
  },
  {
   "cell_type": "markdown",
   "id": "6fe207ff",
   "metadata": {},
   "source": [
    "*Train the network*"
   ]
  },
  {
   "cell_type": "code",
   "execution_count": 31,
   "id": "0cbe6805",
   "metadata": {},
   "outputs": [
    {
     "name": "stdout",
     "output_type": "stream",
     "text": [
      "Epoch 1/40\n",
      "45/45 [==============================] - 1s 8ms/step - loss: 48.3929 - val_loss: 6.2093\n",
      "Epoch 2/40\n",
      "45/45 [==============================] - 0s 11ms/step - loss: 12.0593 - val_loss: 5.2802\n",
      "Epoch 3/40\n",
      "45/45 [==============================] - 0s 7ms/step - loss: 12.0593 - val_loss: 10.6977\n",
      "Epoch 4/40\n",
      "45/45 [==============================] - 0s 11ms/step - loss: 11.4243 - val_loss: 5.1628\n",
      "Epoch 5/40\n",
      "45/45 [==============================] - 0s 7ms/step - loss: 12.2873 - val_loss: 9.1291\n",
      "Epoch 6/40\n",
      "45/45 [==============================] - 0s 3ms/step - loss: 10.9900 - val_loss: 4.9930\n",
      "Epoch 7/40\n",
      "45/45 [==============================] - 0s 3ms/step - loss: 10.7319 - val_loss: 7.8148\n",
      "Epoch 8/40\n",
      "45/45 [==============================] - 0s 3ms/step - loss: 10.3335 - val_loss: 4.0346\n",
      "Epoch 9/40\n",
      "45/45 [==============================] - 0s 3ms/step - loss: 9.7696 - val_loss: 4.9076\n",
      "Epoch 10/40\n",
      "45/45 [==============================] - 0s 3ms/step - loss: 9.5248 - val_loss: 8.0471\n",
      "Epoch 11/40\n",
      "45/45 [==============================] - 0s 3ms/step - loss: 9.7624 - val_loss: 6.8902\n",
      "Epoch 12/40\n",
      "45/45 [==============================] - 0s 3ms/step - loss: 8.9498 - val_loss: 5.3330\n",
      "Epoch 13/40\n",
      "45/45 [==============================] - 0s 3ms/step - loss: 9.2577 - val_loss: 3.5727\n",
      "Epoch 14/40\n",
      "45/45 [==============================] - 0s 3ms/step - loss: 9.3674 - val_loss: 11.2523\n",
      "Epoch 15/40\n",
      "45/45 [==============================] - 0s 4ms/step - loss: 9.0248 - val_loss: 5.5085\n",
      "Epoch 16/40\n",
      "45/45 [==============================] - 0s 4ms/step - loss: 8.6069 - val_loss: 8.3544\n",
      "Epoch 17/40\n",
      "45/45 [==============================] - 0s 4ms/step - loss: 8.4403 - val_loss: 3.9345\n",
      "Epoch 18/40\n",
      "45/45 [==============================] - 0s 4ms/step - loss: 8.8496 - val_loss: 9.4387\n",
      "Restoring model weights from the end of the best epoch.\n",
      "Epoch 00018: early stopping\n",
      "\n",
      "Saving model...\n"
     ]
    }
   ],
   "source": [
    "# Stop training early if validation loss doesn't go down \n",
    "early_stop = EarlyStopping(monitor='val_loss', \n",
    "                           patience=5, \n",
    "                           mode='min', \n",
    "                           verbose=1,\n",
    "                           restore_best_weights=True)\n",
    "\n",
    "# Train\n",
    "history = nn_glove.fit(X_train_glove, \n",
    "                    y_train, \n",
    "                    epochs=40,\n",
    "                    verbose=1, \n",
    "                    validation_split=0.2,\n",
    "                    callbacks=[early_stop])\n",
    "\n",
    "# Save model\n",
    "print('\\nSaving model...')\n",
    "tf.keras.models.save_model(nn_glove, 'fitted_models/nn_glove.h5')"
   ]
  },
  {
   "cell_type": "markdown",
   "id": "be744a8b",
   "metadata": {},
   "source": [
    "*Evaluate the network*"
   ]
  },
  {
   "cell_type": "code",
   "execution_count": 32,
   "id": "883e2f92",
   "metadata": {},
   "outputs": [
    {
     "name": "stdout",
     "output_type": "stream",
     "text": [
      "Train MAE: 8.8496\n",
      "Test MAE: 3.7293\n",
      "\n",
      "The clipped MAE on the test set is 3.7292915513780382\n"
     ]
    }
   ],
   "source": [
    "# Evaluate the network\n",
    "train_loss = history.history[\"loss\"][-1]\n",
    "result = nn_glove.evaluate(X_test_glove, y_test, verbose=0)\n",
    "\n",
    "print(f\"Train MAE: {train_loss:.4f}\")\n",
    "print(f\"Test MAE: {result:.4f}\") \n",
    "\n",
    "# Generate predictions\n",
    "predictions = nn_glove.predict(X_test_glove)\n",
    "\n",
    "# Score our predictions based on our custom clipped MAE\n",
    "print(f'\\nThe clipped MAE on the test set is {clipped_mae(y_test, predictions)}')"
   ]
  },
  {
   "cell_type": "markdown",
   "id": "85519bc0",
   "metadata": {},
   "source": [
    "This neural network is performing worse than both the dummy regressor, and the current best model, Ridge regression (MAE = 2.58). We will exclude this model from further investigation. \n",
    "***"
   ]
  },
  {
   "cell_type": "markdown",
   "id": "d3864e79",
   "metadata": {},
   "source": [
    "<a id='Step6'></a>\n",
    "## 6. Best model with word embeddings\n",
    "Since we have the word embeddings loaded, let's try fitting Ridge regression with these embeddings. "
   ]
  },
  {
   "cell_type": "markdown",
   "id": "d283d880",
   "metadata": {},
   "source": [
    "### 6.1. Ridge regression with word2vec"
   ]
  },
  {
   "cell_type": "code",
   "execution_count": 33,
   "id": "e4854f85",
   "metadata": {},
   "outputs": [
    {
     "data": {
      "image/png": "[encoded data removed]",
      "text/plain": [
       "<Figure size 432x288 with 1 Axes>"
      ]
     },
     "metadata": {
      "needs_background": "light"
     },
     "output_type": "display_data"
    },
    {
     "name": "stdout",
     "output_type": "stream",
     "text": [
      "The lowest MAE is 2.829434692632794 with a regularization term of 1\n",
      "The MAE of the test set is 2.866447672760307\n"
     ]
    }
   ],
   "source": [
    "# Ridge with w2v\n",
    "reg_term_list = list(range(1,31))\n",
    "\n",
    "cv_scores = []\n",
    "best_score = np.inf\n",
    "best_alpha = []\n",
    "\n",
    "for alpha in reg_term_list: \n",
    "    rr = Ridge(alpha=alpha)\n",
    "    cv_score = np.mean(cross_val_score(rr, X_train_w2v, y_train, cv=5, scoring=scoring))*-1\n",
    "\n",
    "    cv_scores.append(cv_score)\n",
    "\n",
    "    if cv_score < best_score:\n",
    "        best_score = cv_score\n",
    "        best_alpha = alpha\n",
    "\n",
    "plt.figure()\n",
    "plt.plot(reg_term_list, cv_scores, color='red', label = 'Cross Validation Score')\n",
    "plt.title('MAE for different values of alpha')\n",
    "plt.xlabel('Alpha value')\n",
    "plt.ylabel('Mean Absolute Error')\n",
    "plt.legend()\n",
    "plt.show()\n",
    "\n",
    "print(f'The lowest MAE is {best_score} with a regularization term of {best_alpha}') \n",
    "\n",
    "# recreate best model and test against test set\n",
    "w2v_rr_best = Ridge(alpha=best_alpha)\n",
    "w2v_rr_best.fit(X_train_w2v, y_train) \n",
    "\n",
    "y_pred = w2v_rr_best.predict(X_test_w2v)\n",
    "w2v_best_rr_clipped_mae = clipped_mae(y_test, y_pred)\n",
    "\n",
    "print(f'The MAE of the test set is {w2v_best_rr_clipped_mae}')"
   ]
  },
  {
   "cell_type": "markdown",
   "id": "8ff211f2",
   "metadata": {},
   "source": [
    "### Ridge regression with GloVe"
   ]
  },
  {
   "cell_type": "code",
   "execution_count": 34,
   "id": "d7a236e2",
   "metadata": {},
   "outputs": [
    {
     "data": {
      "image/png": "[encoded data removed]",
      "text/plain": [
       "<Figure size 432x288 with 1 Axes>"
      ]
     },
     "metadata": {
      "needs_background": "light"
     },
     "output_type": "display_data"
    },
    {
     "name": "stdout",
     "output_type": "stream",
     "text": [
      "The lowest MAE is 2.769781133280677 with a regularization term of 1\n",
      "The MAE of the test set is 2.88721491281618\n"
     ]
    }
   ],
   "source": [
    "# Ridge with GloVe\n",
    "reg_term_list = list(range(1,31))\n",
    "\n",
    "cv_scores = []\n",
    "best_score = np.inf\n",
    "best_alpha = []\n",
    "\n",
    "for alpha in reg_term_list: \n",
    "    rr = Ridge(alpha=alpha)\n",
    "    cv_score = np.mean(cross_val_score(rr, X_train_glove, y_train, cv=5, scoring=scoring))*-1\n",
    "\n",
    "    cv_scores.append(cv_score)\n",
    "\n",
    "    if cv_score < best_score:\n",
    "        best_score = cv_score\n",
    "        best_alpha = alpha\n",
    "\n",
    "plt.figure()\n",
    "plt.plot(reg_term_list, cv_scores, color='red', label = 'Cross Validation Score')\n",
    "plt.title('MAE for different values of alpha')\n",
    "plt.xlabel('Alpha value')\n",
    "plt.ylabel('Mean Absolute Error')\n",
    "plt.legend()\n",
    "plt.show()\n",
    "\n",
    "print(f'The lowest MAE is {best_score} with a regularization term of {best_alpha}') \n",
    "\n",
    "# recreate best model and test against test set\n",
    "glove_rr_best = Ridge(alpha=best_alpha)\n",
    "glove_rr_best.fit(X_train_glove, y_train) \n",
    "\n",
    "y_pred = glove_rr_best.predict(X_test_glove)\n",
    "glove_best_rr_clipped_mae = clipped_mae(y_test, y_pred)\n",
    "\n",
    "print(f'The MAE of the test set is {glove_best_rr_clipped_mae}')"
   ]
  },
  {
   "cell_type": "markdown",
   "id": "79ef6955",
   "metadata": {},
   "source": [
    "The last two models both perform worse than our best model, Ridge regression (MAE = 2.58). We will exclude these neural networks from further investigation. \n",
    "***"
   ]
  },
  {
   "cell_type": "markdown",
   "id": "25ce3acc",
   "metadata": {},
   "source": [
    "# Conclusion \n",
    "In this notebook we used GridSearchCV to optimize the hyperparameters of different models (Ridge regression, Lasso regression, Decision Tree Regressor, KNN Regressor, and XGB Regressor) which helped determine which of these models performed the best. GridSearchCV uses cross validation scores to determine which model performs the best. We also compared how Bag of Words and TF-IDF to see which form of text representation resulted in the best cross validation score. The best models found were Ridge regression with TF-IDF vectorization (MAE=2.58), and XGBRegressor with TF-IDF vectorization (MAE=2.49). \n",
    "\n",
    "While the XGBRegressor model performed the best, it lacks the level of interpretability that we are looking for. We want to see how individual words affect the predicted rating of a whisky, and this is not possible with XGBoost regression models. We could perhaps look at the feature importances of our XGB regression model, but that does not indicate whether a word increases or decreases a whisky's rating. Due to to lack of interpretability, this is not a model we will be investigating further.  \n",
    "\n",
    "We also fit neural networks using TF-IDF vectorization, and word2vec and GlovE word embeddings. These models did not perform as well as Ridge regression and the XGB Regressor and will not be investigated further. Please note that there was no attempt at optimizing the neural network. The main goal of this investigation was to observe the regression coefficients of whisky reviews to determine which words increase and decrease the whisky's rating. This level of interpretability is largely lost when using neural networks. We fit these models mainly out of curiousity to see if they were more accurate than our other models without tuning hyperparameters. \n",
    "\n",
    "Finally, we fit Ridge regression models using word2vec and GloVe word embeddings as well. These models also did not perform as well as Ridge regression and XGB Regressor with TF-IDF vectorization.  \n",
    "\n",
    "In our next notebook, we will further investigate Ridge regression with TF-IDF text vectorization. "
   ]
  },
  {
   "cell_type": "code",
   "execution_count": null,
   "id": "e48c007c",
   "metadata": {},
   "outputs": [],
   "source": []
  }
 ],
 "metadata": {
  "kernelspec": {
   "display_name": "capstone",
   "language": "python",
   "name": "capstone"
  },
  "language_info": {
   "codemirror_mode": {
    "name": "ipython",
    "version": 3
   },
   "file_extension": ".py",
   "mimetype": "text/x-python",
   "name": "python",
   "nbconvert_exporter": "python",
   "pygments_lexer": "ipython3",
   "version": "3.7.6"
  },
  "varInspector": {
   "cols": {
    "lenName": 16,
    "lenType": 16,
    "lenVar": 40
   },
   "kernels_config": {
    "python": {
     "delete_cmd_postfix": "",
     "delete_cmd_prefix": "del ",
     "library": "var_list.py",
     "varRefreshCmd": "print(var_dic_list())"
    },
    "r": {
     "delete_cmd_postfix": ") ",
     "delete_cmd_prefix": "rm(",
     "library": "var_list.r",
     "varRefreshCmd": "cat(var_dic_list()) "
    }
   },
   "types_to_exclude": [
    "module",
    "function",
    "builtin_function_or_method",
    "instance",
    "_Feature"
   ],
   "window_display": false
  }
 },
 "nbformat": 4,
 "nbformat_minor": 5
}
